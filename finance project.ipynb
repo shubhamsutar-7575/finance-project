{
 "cells": [
  {
   "cell_type": "code",
   "execution_count": 1,
   "id": "9e35582d-cdd5-40da-9a7b-bc2b1effb8a5",
   "metadata": {},
   "outputs": [],
   "source": [
    "# import libraries\n",
    "import pandas as pd\n",
    "import numpy as np"
   ]
  },
  {
   "cell_type": "code",
   "execution_count": 2,
   "id": "16d672ae-028f-4898-a7ae-fb9dff58940d",
   "metadata": {},
   "outputs": [],
   "source": [
    "# load dataset\n",
    "data=pd.read_csv('credit_train.csv')"
   ]
  },
  {
   "cell_type": "code",
   "execution_count": 3,
   "id": "991024d3-7df6-49b2-b270-21e842ce9a22",
   "metadata": {},
   "outputs": [
    {
     "data": {
      "text/html": [
       "<div>\n",
       "<style scoped>\n",
       "    .dataframe tbody tr th:only-of-type {\n",
       "        vertical-align: middle;\n",
       "    }\n",
       "\n",
       "    .dataframe tbody tr th {\n",
       "        vertical-align: top;\n",
       "    }\n",
       "\n",
       "    .dataframe thead th {\n",
       "        text-align: right;\n",
       "    }\n",
       "</style>\n",
       "<table border=\"1\" class=\"dataframe\">\n",
       "  <thead>\n",
       "    <tr style=\"text-align: right;\">\n",
       "      <th></th>\n",
       "      <th>Loan ID</th>\n",
       "      <th>Customer ID</th>\n",
       "      <th>Loan Status</th>\n",
       "      <th>Current Loan Amount</th>\n",
       "      <th>Term</th>\n",
       "      <th>Credit Score</th>\n",
       "      <th>Annual Income</th>\n",
       "      <th>Years in current job</th>\n",
       "      <th>Home Ownership</th>\n",
       "      <th>Purpose</th>\n",
       "      <th>Monthly Debt</th>\n",
       "      <th>Years of Credit History</th>\n",
       "      <th>Months since last delinquent</th>\n",
       "      <th>Number of Open Accounts</th>\n",
       "      <th>Number of Credit Problems</th>\n",
       "      <th>Current Credit Balance</th>\n",
       "      <th>Maximum Open Credit</th>\n",
       "      <th>Bankruptcies</th>\n",
       "      <th>Tax Liens</th>\n",
       "    </tr>\n",
       "  </thead>\n",
       "  <tbody>\n",
       "    <tr>\n",
       "      <th>0</th>\n",
       "      <td>14dd8831-6af5-400b-83ec-68e61888a048</td>\n",
       "      <td>981165ec-3274-42f5-a3b4-d104041a9ca9</td>\n",
       "      <td>Fully Paid</td>\n",
       "      <td>445412.0</td>\n",
       "      <td>Short Term</td>\n",
       "      <td>709.0</td>\n",
       "      <td>1167493.0</td>\n",
       "      <td>8 years</td>\n",
       "      <td>Home Mortgage</td>\n",
       "      <td>Home Improvements</td>\n",
       "      <td>5214.74</td>\n",
       "      <td>17.2</td>\n",
       "      <td>NaN</td>\n",
       "      <td>6.0</td>\n",
       "      <td>1.0</td>\n",
       "      <td>228190.0</td>\n",
       "      <td>416746.0</td>\n",
       "      <td>1.0</td>\n",
       "      <td>0.0</td>\n",
       "    </tr>\n",
       "    <tr>\n",
       "      <th>1</th>\n",
       "      <td>4771cc26-131a-45db-b5aa-537ea4ba5342</td>\n",
       "      <td>2de017a3-2e01-49cb-a581-08169e83be29</td>\n",
       "      <td>Fully Paid</td>\n",
       "      <td>262328.0</td>\n",
       "      <td>Short Term</td>\n",
       "      <td>NaN</td>\n",
       "      <td>NaN</td>\n",
       "      <td>10+ years</td>\n",
       "      <td>Home Mortgage</td>\n",
       "      <td>Debt Consolidation</td>\n",
       "      <td>33295.98</td>\n",
       "      <td>21.1</td>\n",
       "      <td>8.0</td>\n",
       "      <td>35.0</td>\n",
       "      <td>0.0</td>\n",
       "      <td>229976.0</td>\n",
       "      <td>850784.0</td>\n",
       "      <td>0.0</td>\n",
       "      <td>0.0</td>\n",
       "    </tr>\n",
       "    <tr>\n",
       "      <th>2</th>\n",
       "      <td>4eed4e6a-aa2f-4c91-8651-ce984ee8fb26</td>\n",
       "      <td>5efb2b2b-bf11-4dfd-a572-3761a2694725</td>\n",
       "      <td>Fully Paid</td>\n",
       "      <td>99999999.0</td>\n",
       "      <td>Short Term</td>\n",
       "      <td>741.0</td>\n",
       "      <td>2231892.0</td>\n",
       "      <td>8 years</td>\n",
       "      <td>Own Home</td>\n",
       "      <td>Debt Consolidation</td>\n",
       "      <td>29200.53</td>\n",
       "      <td>14.9</td>\n",
       "      <td>29.0</td>\n",
       "      <td>18.0</td>\n",
       "      <td>1.0</td>\n",
       "      <td>297996.0</td>\n",
       "      <td>750090.0</td>\n",
       "      <td>0.0</td>\n",
       "      <td>0.0</td>\n",
       "    </tr>\n",
       "    <tr>\n",
       "      <th>3</th>\n",
       "      <td>77598f7b-32e7-4e3b-a6e5-06ba0d98fe8a</td>\n",
       "      <td>e777faab-98ae-45af-9a86-7ce5b33b1011</td>\n",
       "      <td>Fully Paid</td>\n",
       "      <td>347666.0</td>\n",
       "      <td>Long Term</td>\n",
       "      <td>721.0</td>\n",
       "      <td>806949.0</td>\n",
       "      <td>3 years</td>\n",
       "      <td>Own Home</td>\n",
       "      <td>Debt Consolidation</td>\n",
       "      <td>8741.90</td>\n",
       "      <td>12.0</td>\n",
       "      <td>NaN</td>\n",
       "      <td>9.0</td>\n",
       "      <td>0.0</td>\n",
       "      <td>256329.0</td>\n",
       "      <td>386958.0</td>\n",
       "      <td>0.0</td>\n",
       "      <td>0.0</td>\n",
       "    </tr>\n",
       "    <tr>\n",
       "      <th>4</th>\n",
       "      <td>d4062e70-befa-4995-8643-a0de73938182</td>\n",
       "      <td>81536ad9-5ccf-4eb8-befb-47a4d608658e</td>\n",
       "      <td>Fully Paid</td>\n",
       "      <td>176220.0</td>\n",
       "      <td>Short Term</td>\n",
       "      <td>NaN</td>\n",
       "      <td>NaN</td>\n",
       "      <td>5 years</td>\n",
       "      <td>Rent</td>\n",
       "      <td>Debt Consolidation</td>\n",
       "      <td>20639.70</td>\n",
       "      <td>6.1</td>\n",
       "      <td>NaN</td>\n",
       "      <td>15.0</td>\n",
       "      <td>0.0</td>\n",
       "      <td>253460.0</td>\n",
       "      <td>427174.0</td>\n",
       "      <td>0.0</td>\n",
       "      <td>0.0</td>\n",
       "    </tr>\n",
       "    <tr>\n",
       "      <th>...</th>\n",
       "      <td>...</td>\n",
       "      <td>...</td>\n",
       "      <td>...</td>\n",
       "      <td>...</td>\n",
       "      <td>...</td>\n",
       "      <td>...</td>\n",
       "      <td>...</td>\n",
       "      <td>...</td>\n",
       "      <td>...</td>\n",
       "      <td>...</td>\n",
       "      <td>...</td>\n",
       "      <td>...</td>\n",
       "      <td>...</td>\n",
       "      <td>...</td>\n",
       "      <td>...</td>\n",
       "      <td>...</td>\n",
       "      <td>...</td>\n",
       "      <td>...</td>\n",
       "      <td>...</td>\n",
       "    </tr>\n",
       "    <tr>\n",
       "      <th>100509</th>\n",
       "      <td>NaN</td>\n",
       "      <td>NaN</td>\n",
       "      <td>NaN</td>\n",
       "      <td>NaN</td>\n",
       "      <td>NaN</td>\n",
       "      <td>NaN</td>\n",
       "      <td>NaN</td>\n",
       "      <td>NaN</td>\n",
       "      <td>NaN</td>\n",
       "      <td>NaN</td>\n",
       "      <td>NaN</td>\n",
       "      <td>NaN</td>\n",
       "      <td>NaN</td>\n",
       "      <td>NaN</td>\n",
       "      <td>NaN</td>\n",
       "      <td>NaN</td>\n",
       "      <td>NaN</td>\n",
       "      <td>NaN</td>\n",
       "      <td>NaN</td>\n",
       "    </tr>\n",
       "    <tr>\n",
       "      <th>100510</th>\n",
       "      <td>NaN</td>\n",
       "      <td>NaN</td>\n",
       "      <td>NaN</td>\n",
       "      <td>NaN</td>\n",
       "      <td>NaN</td>\n",
       "      <td>NaN</td>\n",
       "      <td>NaN</td>\n",
       "      <td>NaN</td>\n",
       "      <td>NaN</td>\n",
       "      <td>NaN</td>\n",
       "      <td>NaN</td>\n",
       "      <td>NaN</td>\n",
       "      <td>NaN</td>\n",
       "      <td>NaN</td>\n",
       "      <td>NaN</td>\n",
       "      <td>NaN</td>\n",
       "      <td>NaN</td>\n",
       "      <td>NaN</td>\n",
       "      <td>NaN</td>\n",
       "    </tr>\n",
       "    <tr>\n",
       "      <th>100511</th>\n",
       "      <td>NaN</td>\n",
       "      <td>NaN</td>\n",
       "      <td>NaN</td>\n",
       "      <td>NaN</td>\n",
       "      <td>NaN</td>\n",
       "      <td>NaN</td>\n",
       "      <td>NaN</td>\n",
       "      <td>NaN</td>\n",
       "      <td>NaN</td>\n",
       "      <td>NaN</td>\n",
       "      <td>NaN</td>\n",
       "      <td>NaN</td>\n",
       "      <td>NaN</td>\n",
       "      <td>NaN</td>\n",
       "      <td>NaN</td>\n",
       "      <td>NaN</td>\n",
       "      <td>NaN</td>\n",
       "      <td>NaN</td>\n",
       "      <td>NaN</td>\n",
       "    </tr>\n",
       "    <tr>\n",
       "      <th>100512</th>\n",
       "      <td>NaN</td>\n",
       "      <td>NaN</td>\n",
       "      <td>NaN</td>\n",
       "      <td>NaN</td>\n",
       "      <td>NaN</td>\n",
       "      <td>NaN</td>\n",
       "      <td>NaN</td>\n",
       "      <td>NaN</td>\n",
       "      <td>NaN</td>\n",
       "      <td>NaN</td>\n",
       "      <td>NaN</td>\n",
       "      <td>NaN</td>\n",
       "      <td>NaN</td>\n",
       "      <td>NaN</td>\n",
       "      <td>NaN</td>\n",
       "      <td>NaN</td>\n",
       "      <td>NaN</td>\n",
       "      <td>NaN</td>\n",
       "      <td>NaN</td>\n",
       "    </tr>\n",
       "    <tr>\n",
       "      <th>100513</th>\n",
       "      <td>NaN</td>\n",
       "      <td>NaN</td>\n",
       "      <td>NaN</td>\n",
       "      <td>NaN</td>\n",
       "      <td>NaN</td>\n",
       "      <td>NaN</td>\n",
       "      <td>NaN</td>\n",
       "      <td>NaN</td>\n",
       "      <td>NaN</td>\n",
       "      <td>NaN</td>\n",
       "      <td>NaN</td>\n",
       "      <td>NaN</td>\n",
       "      <td>NaN</td>\n",
       "      <td>NaN</td>\n",
       "      <td>NaN</td>\n",
       "      <td>NaN</td>\n",
       "      <td>NaN</td>\n",
       "      <td>NaN</td>\n",
       "      <td>NaN</td>\n",
       "    </tr>\n",
       "  </tbody>\n",
       "</table>\n",
       "<p>100514 rows × 19 columns</p>\n",
       "</div>"
      ],
      "text/plain": [
       "                                     Loan ID  \\\n",
       "0       14dd8831-6af5-400b-83ec-68e61888a048   \n",
       "1       4771cc26-131a-45db-b5aa-537ea4ba5342   \n",
       "2       4eed4e6a-aa2f-4c91-8651-ce984ee8fb26   \n",
       "3       77598f7b-32e7-4e3b-a6e5-06ba0d98fe8a   \n",
       "4       d4062e70-befa-4995-8643-a0de73938182   \n",
       "...                                      ...   \n",
       "100509                                   NaN   \n",
       "100510                                   NaN   \n",
       "100511                                   NaN   \n",
       "100512                                   NaN   \n",
       "100513                                   NaN   \n",
       "\n",
       "                                 Customer ID Loan Status  Current Loan Amount  \\\n",
       "0       981165ec-3274-42f5-a3b4-d104041a9ca9  Fully Paid             445412.0   \n",
       "1       2de017a3-2e01-49cb-a581-08169e83be29  Fully Paid             262328.0   \n",
       "2       5efb2b2b-bf11-4dfd-a572-3761a2694725  Fully Paid           99999999.0   \n",
       "3       e777faab-98ae-45af-9a86-7ce5b33b1011  Fully Paid             347666.0   \n",
       "4       81536ad9-5ccf-4eb8-befb-47a4d608658e  Fully Paid             176220.0   \n",
       "...                                      ...         ...                  ...   \n",
       "100509                                   NaN         NaN                  NaN   \n",
       "100510                                   NaN         NaN                  NaN   \n",
       "100511                                   NaN         NaN                  NaN   \n",
       "100512                                   NaN         NaN                  NaN   \n",
       "100513                                   NaN         NaN                  NaN   \n",
       "\n",
       "              Term  Credit Score  Annual Income Years in current job  \\\n",
       "0       Short Term         709.0      1167493.0              8 years   \n",
       "1       Short Term           NaN            NaN            10+ years   \n",
       "2       Short Term         741.0      2231892.0              8 years   \n",
       "3        Long Term         721.0       806949.0              3 years   \n",
       "4       Short Term           NaN            NaN              5 years   \n",
       "...            ...           ...            ...                  ...   \n",
       "100509         NaN           NaN            NaN                  NaN   \n",
       "100510         NaN           NaN            NaN                  NaN   \n",
       "100511         NaN           NaN            NaN                  NaN   \n",
       "100512         NaN           NaN            NaN                  NaN   \n",
       "100513         NaN           NaN            NaN                  NaN   \n",
       "\n",
       "       Home Ownership             Purpose  Monthly Debt  \\\n",
       "0       Home Mortgage   Home Improvements       5214.74   \n",
       "1       Home Mortgage  Debt Consolidation      33295.98   \n",
       "2            Own Home  Debt Consolidation      29200.53   \n",
       "3            Own Home  Debt Consolidation       8741.90   \n",
       "4                Rent  Debt Consolidation      20639.70   \n",
       "...               ...                 ...           ...   \n",
       "100509            NaN                 NaN           NaN   \n",
       "100510            NaN                 NaN           NaN   \n",
       "100511            NaN                 NaN           NaN   \n",
       "100512            NaN                 NaN           NaN   \n",
       "100513            NaN                 NaN           NaN   \n",
       "\n",
       "        Years of Credit History  Months since last delinquent  \\\n",
       "0                          17.2                           NaN   \n",
       "1                          21.1                           8.0   \n",
       "2                          14.9                          29.0   \n",
       "3                          12.0                           NaN   \n",
       "4                           6.1                           NaN   \n",
       "...                         ...                           ...   \n",
       "100509                      NaN                           NaN   \n",
       "100510                      NaN                           NaN   \n",
       "100511                      NaN                           NaN   \n",
       "100512                      NaN                           NaN   \n",
       "100513                      NaN                           NaN   \n",
       "\n",
       "        Number of Open Accounts  Number of Credit Problems  \\\n",
       "0                           6.0                        1.0   \n",
       "1                          35.0                        0.0   \n",
       "2                          18.0                        1.0   \n",
       "3                           9.0                        0.0   \n",
       "4                          15.0                        0.0   \n",
       "...                         ...                        ...   \n",
       "100509                      NaN                        NaN   \n",
       "100510                      NaN                        NaN   \n",
       "100511                      NaN                        NaN   \n",
       "100512                      NaN                        NaN   \n",
       "100513                      NaN                        NaN   \n",
       "\n",
       "        Current Credit Balance  Maximum Open Credit  Bankruptcies  Tax Liens  \n",
       "0                     228190.0             416746.0           1.0        0.0  \n",
       "1                     229976.0             850784.0           0.0        0.0  \n",
       "2                     297996.0             750090.0           0.0        0.0  \n",
       "3                     256329.0             386958.0           0.0        0.0  \n",
       "4                     253460.0             427174.0           0.0        0.0  \n",
       "...                        ...                  ...           ...        ...  \n",
       "100509                     NaN                  NaN           NaN        NaN  \n",
       "100510                     NaN                  NaN           NaN        NaN  \n",
       "100511                     NaN                  NaN           NaN        NaN  \n",
       "100512                     NaN                  NaN           NaN        NaN  \n",
       "100513                     NaN                  NaN           NaN        NaN  \n",
       "\n",
       "[100514 rows x 19 columns]"
      ]
     },
     "execution_count": 3,
     "metadata": {},
     "output_type": "execute_result"
    }
   ],
   "source": [
    "data"
   ]
  },
  {
   "cell_type": "raw",
   "id": "d4fe0206-6727-4def-adbb-81bb3362c7f4",
   "metadata": {},
   "source": [
    "Domain Analysis\n",
    "\n",
    "\n",
    "Loan ID: A unique identifier for each loan. This is crucial for tracking specific loans and is likely used as a primary key in the dataset.\n",
    "Customer ID: A unique identifier for each customer. This helps in associating multiple loans with the same customer.\n",
    "Loan Status: Indicates whether the loan is fully paid, currently active, or in default. This is a key variable for credit risk analysis.\n",
    "Current Loan Amount: The amount of money currently owed by the customer. This could help in understanding the cuser’s financial obligations.\n",
    "Term: Refers to the duration of the loan, which can be short-term or long-term. This could affect the interest rates and overall risk.\n",
    "Credit Score: A numeric representation of the customer's creditworthiness. It's typically used by lenders to evaluate the risk associated with lending money.\n",
    "Annual Income: The customer's annual income, which is an important factor in assessing their ability to repay the loan.\n",
    "Years in Current Job: Indicates the customer's job stability, which could correlate with their ability to repay the loan.\n",
    "Home Ownership: Specifies whether the customer owns a home, has a mortgage, or rents. Home ownership status can be an indicator of financial stability.\n",
    "Purpose: The reason for taking the loan, such as debt consolidation, home improvements, etc. This helps in understanding how customers are using the loans.\n",
    "Monthly Debt: The customer's current monthly debt payments. This is useful for calculating the debt-to-income ratio, a key metric in credit analysis.\n",
    "Years of Credit History: The duration for which the customer has had credit. Longer credit histories generally indicate more experience with managing debt.\n",
    "Months Since Last Delinquent: The time since the customer last missed a payment. This is an important indicator of recent financial difficulties.\n",
    "Number of Open Accounts: The number of credit accounts the customer currently has open. This can indicate the customer’s ability to manage multiple financial obligations.\n",
    "Number of Credit Problems: Indicates the number of credit issues the customer has faced, such as bankruptcies or defaults. This is a critical factor in assessing credit risk."
   ]
  },
  {
   "cell_type": "code",
   "execution_count": 4,
   "id": "6c58bb20-7586-46b6-b241-d08b577d3917",
   "metadata": {},
   "outputs": [
    {
     "data": {
      "text/plain": [
       "(100514, 19)"
      ]
     },
     "execution_count": 4,
     "metadata": {},
     "output_type": "execute_result"
    }
   ],
   "source": [
    "# basic checks\n",
    "data.shape"
   ]
  },
  {
   "cell_type": "code",
   "execution_count": 5,
   "id": "7d971e57-d9d1-44ee-b209-7c0c570a8542",
   "metadata": {},
   "outputs": [
    {
     "name": "stdout",
     "output_type": "stream",
     "text": [
      "<class 'pandas.core.frame.DataFrame'>\n",
      "RangeIndex: 100514 entries, 0 to 100513\n",
      "Data columns (total 19 columns):\n",
      " #   Column                        Non-Null Count   Dtype  \n",
      "---  ------                        --------------   -----  \n",
      " 0   Loan ID                       100000 non-null  object \n",
      " 1   Customer ID                   100000 non-null  object \n",
      " 2   Loan Status                   100000 non-null  object \n",
      " 3   Current Loan Amount           100000 non-null  float64\n",
      " 4   Term                          100000 non-null  object \n",
      " 5   Credit Score                  80846 non-null   float64\n",
      " 6   Annual Income                 80846 non-null   float64\n",
      " 7   Years in current job          95778 non-null   object \n",
      " 8   Home Ownership                100000 non-null  object \n",
      " 9   Purpose                       100000 non-null  object \n",
      " 10  Monthly Debt                  100000 non-null  float64\n",
      " 11  Years of Credit History       100000 non-null  float64\n",
      " 12  Months since last delinquent  46859 non-null   float64\n",
      " 13  Number of Open Accounts       100000 non-null  float64\n",
      " 14  Number of Credit Problems     100000 non-null  float64\n",
      " 15  Current Credit Balance        100000 non-null  float64\n",
      " 16  Maximum Open Credit           99998 non-null   float64\n",
      " 17  Bankruptcies                  99796 non-null   float64\n",
      " 18  Tax Liens                     99990 non-null   float64\n",
      "dtypes: float64(12), object(7)\n",
      "memory usage: 14.6+ MB\n"
     ]
    }
   ],
   "source": [
    "data.info()"
   ]
  },
  {
   "cell_type": "code",
   "execution_count": 6,
   "id": "9ce1c65d-23de-4160-9ce7-cff3c8d804e6",
   "metadata": {},
   "outputs": [
    {
     "data": {
      "text/html": [
       "<div>\n",
       "<style scoped>\n",
       "    .dataframe tbody tr th:only-of-type {\n",
       "        vertical-align: middle;\n",
       "    }\n",
       "\n",
       "    .dataframe tbody tr th {\n",
       "        vertical-align: top;\n",
       "    }\n",
       "\n",
       "    .dataframe thead th {\n",
       "        text-align: right;\n",
       "    }\n",
       "</style>\n",
       "<table border=\"1\" class=\"dataframe\">\n",
       "  <thead>\n",
       "    <tr style=\"text-align: right;\">\n",
       "      <th></th>\n",
       "      <th>count</th>\n",
       "      <th>mean</th>\n",
       "      <th>std</th>\n",
       "      <th>min</th>\n",
       "      <th>25%</th>\n",
       "      <th>50%</th>\n",
       "      <th>75%</th>\n",
       "      <th>max</th>\n",
       "    </tr>\n",
       "  </thead>\n",
       "  <tbody>\n",
       "    <tr>\n",
       "      <th>Current Loan Amount</th>\n",
       "      <td>100000.0</td>\n",
       "      <td>1.176045e+07</td>\n",
       "      <td>3.178394e+07</td>\n",
       "      <td>10802.0</td>\n",
       "      <td>179652.0000</td>\n",
       "      <td>312246.0</td>\n",
       "      <td>5.249420e+05</td>\n",
       "      <td>1.000000e+08</td>\n",
       "    </tr>\n",
       "    <tr>\n",
       "      <th>Credit Score</th>\n",
       "      <td>80846.0</td>\n",
       "      <td>1.076456e+03</td>\n",
       "      <td>1.475404e+03</td>\n",
       "      <td>585.0</td>\n",
       "      <td>705.0000</td>\n",
       "      <td>724.0</td>\n",
       "      <td>7.410000e+02</td>\n",
       "      <td>7.510000e+03</td>\n",
       "    </tr>\n",
       "    <tr>\n",
       "      <th>Annual Income</th>\n",
       "      <td>80846.0</td>\n",
       "      <td>1.378277e+06</td>\n",
       "      <td>1.081360e+06</td>\n",
       "      <td>76627.0</td>\n",
       "      <td>848844.0000</td>\n",
       "      <td>1174162.0</td>\n",
       "      <td>1.650663e+06</td>\n",
       "      <td>1.655574e+08</td>\n",
       "    </tr>\n",
       "    <tr>\n",
       "      <th>Monthly Debt</th>\n",
       "      <td>100000.0</td>\n",
       "      <td>1.847241e+04</td>\n",
       "      <td>1.217499e+04</td>\n",
       "      <td>0.0</td>\n",
       "      <td>10214.1625</td>\n",
       "      <td>16220.3</td>\n",
       "      <td>2.401206e+04</td>\n",
       "      <td>4.358433e+05</td>\n",
       "    </tr>\n",
       "    <tr>\n",
       "      <th>Years of Credit History</th>\n",
       "      <td>100000.0</td>\n",
       "      <td>1.819914e+01</td>\n",
       "      <td>7.015324e+00</td>\n",
       "      <td>3.6</td>\n",
       "      <td>13.5000</td>\n",
       "      <td>16.9</td>\n",
       "      <td>2.170000e+01</td>\n",
       "      <td>7.050000e+01</td>\n",
       "    </tr>\n",
       "    <tr>\n",
       "      <th>Months since last delinquent</th>\n",
       "      <td>46859.0</td>\n",
       "      <td>3.490132e+01</td>\n",
       "      <td>2.199783e+01</td>\n",
       "      <td>0.0</td>\n",
       "      <td>16.0000</td>\n",
       "      <td>32.0</td>\n",
       "      <td>5.100000e+01</td>\n",
       "      <td>1.760000e+02</td>\n",
       "    </tr>\n",
       "    <tr>\n",
       "      <th>Number of Open Accounts</th>\n",
       "      <td>100000.0</td>\n",
       "      <td>1.112853e+01</td>\n",
       "      <td>5.009870e+00</td>\n",
       "      <td>0.0</td>\n",
       "      <td>8.0000</td>\n",
       "      <td>10.0</td>\n",
       "      <td>1.400000e+01</td>\n",
       "      <td>7.600000e+01</td>\n",
       "    </tr>\n",
       "    <tr>\n",
       "      <th>Number of Credit Problems</th>\n",
       "      <td>100000.0</td>\n",
       "      <td>1.683100e-01</td>\n",
       "      <td>4.827050e-01</td>\n",
       "      <td>0.0</td>\n",
       "      <td>0.0000</td>\n",
       "      <td>0.0</td>\n",
       "      <td>0.000000e+00</td>\n",
       "      <td>1.500000e+01</td>\n",
       "    </tr>\n",
       "    <tr>\n",
       "      <th>Current Credit Balance</th>\n",
       "      <td>100000.0</td>\n",
       "      <td>2.946374e+05</td>\n",
       "      <td>3.761709e+05</td>\n",
       "      <td>0.0</td>\n",
       "      <td>112670.0000</td>\n",
       "      <td>209817.0</td>\n",
       "      <td>3.679588e+05</td>\n",
       "      <td>3.287897e+07</td>\n",
       "    </tr>\n",
       "    <tr>\n",
       "      <th>Maximum Open Credit</th>\n",
       "      <td>99998.0</td>\n",
       "      <td>7.607984e+05</td>\n",
       "      <td>8.384503e+06</td>\n",
       "      <td>0.0</td>\n",
       "      <td>273438.0000</td>\n",
       "      <td>467874.0</td>\n",
       "      <td>7.829580e+05</td>\n",
       "      <td>1.539738e+09</td>\n",
       "    </tr>\n",
       "    <tr>\n",
       "      <th>Bankruptcies</th>\n",
       "      <td>99796.0</td>\n",
       "      <td>1.177402e-01</td>\n",
       "      <td>3.514238e-01</td>\n",
       "      <td>0.0</td>\n",
       "      <td>0.0000</td>\n",
       "      <td>0.0</td>\n",
       "      <td>0.000000e+00</td>\n",
       "      <td>7.000000e+00</td>\n",
       "    </tr>\n",
       "    <tr>\n",
       "      <th>Tax Liens</th>\n",
       "      <td>99990.0</td>\n",
       "      <td>2.931293e-02</td>\n",
       "      <td>2.581824e-01</td>\n",
       "      <td>0.0</td>\n",
       "      <td>0.0000</td>\n",
       "      <td>0.0</td>\n",
       "      <td>0.000000e+00</td>\n",
       "      <td>1.500000e+01</td>\n",
       "    </tr>\n",
       "  </tbody>\n",
       "</table>\n",
       "</div>"
      ],
      "text/plain": [
       "                                 count          mean           std      min  \\\n",
       "Current Loan Amount           100000.0  1.176045e+07  3.178394e+07  10802.0   \n",
       "Credit Score                   80846.0  1.076456e+03  1.475404e+03    585.0   \n",
       "Annual Income                  80846.0  1.378277e+06  1.081360e+06  76627.0   \n",
       "Monthly Debt                  100000.0  1.847241e+04  1.217499e+04      0.0   \n",
       "Years of Credit History       100000.0  1.819914e+01  7.015324e+00      3.6   \n",
       "Months since last delinquent   46859.0  3.490132e+01  2.199783e+01      0.0   \n",
       "Number of Open Accounts       100000.0  1.112853e+01  5.009870e+00      0.0   \n",
       "Number of Credit Problems     100000.0  1.683100e-01  4.827050e-01      0.0   \n",
       "Current Credit Balance        100000.0  2.946374e+05  3.761709e+05      0.0   \n",
       "Maximum Open Credit            99998.0  7.607984e+05  8.384503e+06      0.0   \n",
       "Bankruptcies                   99796.0  1.177402e-01  3.514238e-01      0.0   \n",
       "Tax Liens                      99990.0  2.931293e-02  2.581824e-01      0.0   \n",
       "\n",
       "                                      25%        50%           75%  \\\n",
       "Current Loan Amount           179652.0000   312246.0  5.249420e+05   \n",
       "Credit Score                     705.0000      724.0  7.410000e+02   \n",
       "Annual Income                 848844.0000  1174162.0  1.650663e+06   \n",
       "Monthly Debt                   10214.1625    16220.3  2.401206e+04   \n",
       "Years of Credit History           13.5000       16.9  2.170000e+01   \n",
       "Months since last delinquent      16.0000       32.0  5.100000e+01   \n",
       "Number of Open Accounts            8.0000       10.0  1.400000e+01   \n",
       "Number of Credit Problems          0.0000        0.0  0.000000e+00   \n",
       "Current Credit Balance        112670.0000   209817.0  3.679588e+05   \n",
       "Maximum Open Credit           273438.0000   467874.0  7.829580e+05   \n",
       "Bankruptcies                       0.0000        0.0  0.000000e+00   \n",
       "Tax Liens                          0.0000        0.0  0.000000e+00   \n",
       "\n",
       "                                       max  \n",
       "Current Loan Amount           1.000000e+08  \n",
       "Credit Score                  7.510000e+03  \n",
       "Annual Income                 1.655574e+08  \n",
       "Monthly Debt                  4.358433e+05  \n",
       "Years of Credit History       7.050000e+01  \n",
       "Months since last delinquent  1.760000e+02  \n",
       "Number of Open Accounts       7.600000e+01  \n",
       "Number of Credit Problems     1.500000e+01  \n",
       "Current Credit Balance        3.287897e+07  \n",
       "Maximum Open Credit           1.539738e+09  \n",
       "Bankruptcies                  7.000000e+00  \n",
       "Tax Liens                     1.500000e+01  "
      ]
     },
     "execution_count": 6,
     "metadata": {},
     "output_type": "execute_result"
    }
   ],
   "source": [
    "data.describe().T"
   ]
  },
  {
   "cell_type": "code",
   "execution_count": 7,
   "id": "5dc62a4d-4f09-4033-b57c-00dce4023a25",
   "metadata": {},
   "outputs": [
    {
     "data": {
      "text/html": [
       "<div>\n",
       "<style scoped>\n",
       "    .dataframe tbody tr th:only-of-type {\n",
       "        vertical-align: middle;\n",
       "    }\n",
       "\n",
       "    .dataframe tbody tr th {\n",
       "        vertical-align: top;\n",
       "    }\n",
       "\n",
       "    .dataframe thead th {\n",
       "        text-align: right;\n",
       "    }\n",
       "</style>\n",
       "<table border=\"1\" class=\"dataframe\">\n",
       "  <thead>\n",
       "    <tr style=\"text-align: right;\">\n",
       "      <th></th>\n",
       "      <th>Loan ID</th>\n",
       "      <th>Customer ID</th>\n",
       "      <th>Loan Status</th>\n",
       "      <th>Term</th>\n",
       "      <th>Years in current job</th>\n",
       "      <th>Home Ownership</th>\n",
       "      <th>Purpose</th>\n",
       "    </tr>\n",
       "  </thead>\n",
       "  <tbody>\n",
       "    <tr>\n",
       "      <th>count</th>\n",
       "      <td>100000</td>\n",
       "      <td>100000</td>\n",
       "      <td>100000</td>\n",
       "      <td>100000</td>\n",
       "      <td>95778</td>\n",
       "      <td>100000</td>\n",
       "      <td>100000</td>\n",
       "    </tr>\n",
       "    <tr>\n",
       "      <th>unique</th>\n",
       "      <td>81999</td>\n",
       "      <td>81999</td>\n",
       "      <td>2</td>\n",
       "      <td>2</td>\n",
       "      <td>11</td>\n",
       "      <td>4</td>\n",
       "      <td>16</td>\n",
       "    </tr>\n",
       "    <tr>\n",
       "      <th>top</th>\n",
       "      <td>14dd8831-6af5-400b-83ec-68e61888a048</td>\n",
       "      <td>981165ec-3274-42f5-a3b4-d104041a9ca9</td>\n",
       "      <td>Fully Paid</td>\n",
       "      <td>Short Term</td>\n",
       "      <td>10+ years</td>\n",
       "      <td>Home Mortgage</td>\n",
       "      <td>Debt Consolidation</td>\n",
       "    </tr>\n",
       "    <tr>\n",
       "      <th>freq</th>\n",
       "      <td>2</td>\n",
       "      <td>2</td>\n",
       "      <td>77361</td>\n",
       "      <td>72208</td>\n",
       "      <td>31121</td>\n",
       "      <td>48410</td>\n",
       "      <td>78552</td>\n",
       "    </tr>\n",
       "  </tbody>\n",
       "</table>\n",
       "</div>"
      ],
      "text/plain": [
       "                                     Loan ID  \\\n",
       "count                                 100000   \n",
       "unique                                 81999   \n",
       "top     14dd8831-6af5-400b-83ec-68e61888a048   \n",
       "freq                                       2   \n",
       "\n",
       "                                 Customer ID Loan Status        Term  \\\n",
       "count                                 100000      100000      100000   \n",
       "unique                                 81999           2           2   \n",
       "top     981165ec-3274-42f5-a3b4-d104041a9ca9  Fully Paid  Short Term   \n",
       "freq                                       2       77361       72208   \n",
       "\n",
       "       Years in current job Home Ownership             Purpose  \n",
       "count                 95778         100000              100000  \n",
       "unique                   11              4                  16  \n",
       "top               10+ years  Home Mortgage  Debt Consolidation  \n",
       "freq                  31121          48410               78552  "
      ]
     },
     "execution_count": 7,
     "metadata": {},
     "output_type": "execute_result"
    }
   ],
   "source": [
    "data.describe(include='O')"
   ]
  },
  {
   "cell_type": "code",
   "execution_count": 8,
   "id": "cd37fa32-8e82-4555-b0ef-8862699d9bb8",
   "metadata": {},
   "outputs": [
    {
     "data": {
      "text/plain": [
       "Index(['Loan ID', 'Customer ID', 'Loan Status', 'Term', 'Years in current job',\n",
       "       'Home Ownership', 'Purpose'],\n",
       "      dtype='object')"
      ]
     },
     "execution_count": 8,
     "metadata": {},
     "output_type": "execute_result"
    }
   ],
   "source": [
    "cat_col=data.select_dtypes(include='object')\n",
    "cat_col.columns"
   ]
  },
  {
   "cell_type": "code",
   "execution_count": 9,
   "id": "2434aa84-e691-45b8-ac22-24c65a155977",
   "metadata": {},
   "outputs": [],
   "source": [
    "num_col=data.select_dtypes(include=['int64','float64'])"
   ]
  },
  {
   "cell_type": "code",
   "execution_count": 10,
   "id": "161e85c9-52cc-46bc-bbeb-d3bdd9bc5841",
   "metadata": {},
   "outputs": [
    {
     "data": {
      "text/plain": [
       "Index(['Current Loan Amount', 'Credit Score', 'Annual Income', 'Monthly Debt',\n",
       "       'Years of Credit History', 'Months since last delinquent',\n",
       "       'Number of Open Accounts', 'Number of Credit Problems',\n",
       "       'Current Credit Balance', 'Maximum Open Credit', 'Bankruptcies',\n",
       "       'Tax Liens'],\n",
       "      dtype='object')"
      ]
     },
     "execution_count": 10,
     "metadata": {},
     "output_type": "execute_result"
    }
   ],
   "source": [
    "num_col.columns"
   ]
  },
  {
   "cell_type": "code",
   "execution_count": 11,
   "id": "48e9b56a-ddc2-474e-9cee-fa4f522e740c",
   "metadata": {},
   "outputs": [
    {
     "name": "stdout",
     "output_type": "stream",
     "text": [
      "Loan Status Loan Status\n",
      "Fully Paid     77361\n",
      "Charged Off    22639\n",
      "Name: count, dtype: int64\n",
      "['Fully Paid' 'Charged Off' nan]\n",
      "###################################\n",
      "Term Term\n",
      "Short Term    72208\n",
      "Long Term     27792\n",
      "Name: count, dtype: int64\n",
      "['Short Term' 'Long Term' nan]\n",
      "###################################\n",
      "Years in current job Years in current job\n",
      "10+ years    31121\n",
      "2 years       9134\n",
      "3 years       8169\n",
      "< 1 year      8164\n",
      "5 years       6787\n",
      "1 year        6460\n",
      "4 years       6143\n",
      "6 years       5686\n",
      "7 years       5577\n",
      "8 years       4582\n",
      "9 years       3955\n",
      "Name: count, dtype: int64\n",
      "['8 years' '10+ years' '3 years' '5 years' '< 1 year' '2 years' '4 years'\n",
      " '9 years' '7 years' '1 year' nan '6 years']\n",
      "###################################\n",
      "Home Ownership Home Ownership\n",
      "Home Mortgage    48410\n",
      "Rent             42194\n",
      "Own Home          9182\n",
      "HaveMortgage       214\n",
      "Name: count, dtype: int64\n",
      "['Home Mortgage' 'Own Home' 'Rent' 'HaveMortgage' nan]\n",
      "###################################\n",
      "Purpose Purpose\n",
      "Debt Consolidation      78552\n",
      "other                    6037\n",
      "Home Improvements        5839\n",
      "Other                    3250\n",
      "Business Loan            1569\n",
      "Buy a Car                1265\n",
      "Medical Bills            1127\n",
      "Buy House                 678\n",
      "Take a Trip               573\n",
      "major_purchase            352\n",
      "small_business            283\n",
      "moving                    150\n",
      "wedding                   115\n",
      "vacation                  101\n",
      "Educational Expenses       99\n",
      "renewable_energy           10\n",
      "Name: count, dtype: int64\n",
      "['Home Improvements' 'Debt Consolidation' 'Buy House' 'other'\n",
      " 'Business Loan' 'Buy a Car' 'major_purchase' 'Take a Trip' 'Other'\n",
      " 'small_business' 'Medical Bills' 'wedding' 'vacation'\n",
      " 'Educational Expenses' 'moving' 'renewable_energy' nan]\n",
      "###################################\n"
     ]
    }
   ],
   "source": [
    "for i in cat_col.drop(columns=['Loan ID','Customer ID'],axis=1):\n",
    "    print(i,data[i].value_counts())\n",
    "    print(data[i].unique())\n",
    "    print('###################################')"
   ]
  },
  {
   "cell_type": "code",
   "execution_count": 12,
   "id": "97bc2fbe-2526-4cf6-b15a-e4067fef4570",
   "metadata": {},
   "outputs": [],
   "source": [
    "# EDA"
   ]
  },
  {
   "cell_type": "code",
   "execution_count": 13,
   "id": "bedf3395-c9ca-4e72-8ed2-25d3510b06be",
   "metadata": {},
   "outputs": [],
   "source": [
    "import seaborn as sns\n",
    "import matplotlib.pyplot as plt\n",
    "%matplotlib inline\n",
    "import sweetviz as sv"
   ]
  },
  {
   "cell_type": "code",
   "execution_count": 14,
   "id": "5cd28619-1dbe-426f-af2f-ac37dff67061",
   "metadata": {},
   "outputs": [],
   "source": [
    "#my_report=sv.analyze(data)\n",
    "#my_report.show_html()"
   ]
  },
  {
   "cell_type": "code",
   "execution_count": 15,
   "id": "46dcd146-58b6-4572-bc8a-1c12567e772d",
   "metadata": {},
   "outputs": [
    {
     "data": {
      "image/png": "[encoded data removed]",
      "text/plain": [
       "<Figure size 3500x2500 with 5 Axes>"
      ]
     },
     "metadata": {},
     "output_type": "display_data"
    }
   ],
   "source": [
    "plt.figure(figsize=(35,25),facecolor='white')\n",
    "plotnumber=1\n",
    "for column in cat_col.drop(['Customer ID','Loan ID'],axis=1):\n",
    "    if plotnumber<=6:\n",
    "        ax=plt.subplot(3,2,plotnumber)\n",
    "        sns.countplot(x=data[column])\n",
    "        plt.xlabel(column,fontsize=20)\n",
    "        plt.ylabel('count')\n",
    "    plotnumber+=1\n",
    "plt.tight_layout()"
   ]
  },
  {
   "cell_type": "raw",
   "id": "96c9bced-8d61-490b-bf5a-0cee392d062b",
   "metadata": {},
   "source": [
    "insights-\n",
    "* fully paid are greater than the chargerd off in loan status\n",
    "* client preffer short term loan as compair to long term\n",
    "* people having major exparience get mejor loan\n",
    "* people preffer debt loan "
   ]
  },
  {
   "cell_type": "code",
   "execution_count": 16,
   "id": "b7f11e4a-1b7a-4196-98dd-75019037e4c7",
   "metadata": {},
   "outputs": [
    {
     "data": {
      "image/png": "[encoded data removed]",
      "text/plain": [
       "<Figure size 1000x1500 with 12 Axes>"
      ]
     },
     "metadata": {},
     "output_type": "display_data"
    }
   ],
   "source": [
    "plt.figure(figsize=(10,15),facecolor='white')\n",
    "plotnumber=1\n",
    "for column in num_col:\n",
    "    if plotnumber<=15:\n",
    "        ax=plt.subplot(5,3,plotnumber)\n",
    "        sns.histplot(x=num_col[column])\n",
    "        plt.xlabel(column,fontsize=10)\n",
    "        plt.ylabel('count',fontsize=10)\n",
    "    plotnumber+=1\n",
    "plt.tight_layout()"
   ]
  },
  {
   "cell_type": "raw",
   "id": "5f108138-d0ed-41d1-aec1-341516050901",
   "metadata": {},
   "source": [
    "insights\n",
    "* all the data are skewed"
   ]
  },
  {
   "cell_type": "code",
   "execution_count": 17,
   "id": "fbfab7ae-ba50-469c-9ed1-2dc797cefba0",
   "metadata": {},
   "outputs": [
    {
     "data": {
      "text/html": [
       "<div>\n",
       "<style scoped>\n",
       "    .dataframe tbody tr th:only-of-type {\n",
       "        vertical-align: middle;\n",
       "    }\n",
       "\n",
       "    .dataframe tbody tr th {\n",
       "        vertical-align: top;\n",
       "    }\n",
       "\n",
       "    .dataframe thead th {\n",
       "        text-align: right;\n",
       "    }\n",
       "</style>\n",
       "<table border=\"1\" class=\"dataframe\">\n",
       "  <thead>\n",
       "    <tr style=\"text-align: right;\">\n",
       "      <th></th>\n",
       "      <th>Current Loan Amount</th>\n",
       "      <th>Credit Score</th>\n",
       "      <th>Annual Income</th>\n",
       "      <th>Monthly Debt</th>\n",
       "      <th>Years of Credit History</th>\n",
       "      <th>Months since last delinquent</th>\n",
       "      <th>Number of Open Accounts</th>\n",
       "      <th>Number of Credit Problems</th>\n",
       "      <th>Current Credit Balance</th>\n",
       "      <th>Maximum Open Credit</th>\n",
       "      <th>Bankruptcies</th>\n",
       "      <th>Tax Liens</th>\n",
       "    </tr>\n",
       "  </thead>\n",
       "  <tbody>\n",
       "    <tr>\n",
       "      <th>0</th>\n",
       "      <td>445412.0</td>\n",
       "      <td>709.0</td>\n",
       "      <td>1167493.0</td>\n",
       "      <td>5214.74</td>\n",
       "      <td>17.2</td>\n",
       "      <td>NaN</td>\n",
       "      <td>6.0</td>\n",
       "      <td>1.0</td>\n",
       "      <td>228190.0</td>\n",
       "      <td>416746.0</td>\n",
       "      <td>1.0</td>\n",
       "      <td>0.0</td>\n",
       "    </tr>\n",
       "    <tr>\n",
       "      <th>1</th>\n",
       "      <td>262328.0</td>\n",
       "      <td>NaN</td>\n",
       "      <td>NaN</td>\n",
       "      <td>33295.98</td>\n",
       "      <td>21.1</td>\n",
       "      <td>8.0</td>\n",
       "      <td>35.0</td>\n",
       "      <td>0.0</td>\n",
       "      <td>229976.0</td>\n",
       "      <td>850784.0</td>\n",
       "      <td>0.0</td>\n",
       "      <td>0.0</td>\n",
       "    </tr>\n",
       "    <tr>\n",
       "      <th>2</th>\n",
       "      <td>99999999.0</td>\n",
       "      <td>741.0</td>\n",
       "      <td>2231892.0</td>\n",
       "      <td>29200.53</td>\n",
       "      <td>14.9</td>\n",
       "      <td>29.0</td>\n",
       "      <td>18.0</td>\n",
       "      <td>1.0</td>\n",
       "      <td>297996.0</td>\n",
       "      <td>750090.0</td>\n",
       "      <td>0.0</td>\n",
       "      <td>0.0</td>\n",
       "    </tr>\n",
       "    <tr>\n",
       "      <th>3</th>\n",
       "      <td>347666.0</td>\n",
       "      <td>721.0</td>\n",
       "      <td>806949.0</td>\n",
       "      <td>8741.90</td>\n",
       "      <td>12.0</td>\n",
       "      <td>NaN</td>\n",
       "      <td>9.0</td>\n",
       "      <td>0.0</td>\n",
       "      <td>256329.0</td>\n",
       "      <td>386958.0</td>\n",
       "      <td>0.0</td>\n",
       "      <td>0.0</td>\n",
       "    </tr>\n",
       "    <tr>\n",
       "      <th>4</th>\n",
       "      <td>176220.0</td>\n",
       "      <td>NaN</td>\n",
       "      <td>NaN</td>\n",
       "      <td>20639.70</td>\n",
       "      <td>6.1</td>\n",
       "      <td>NaN</td>\n",
       "      <td>15.0</td>\n",
       "      <td>0.0</td>\n",
       "      <td>253460.0</td>\n",
       "      <td>427174.0</td>\n",
       "      <td>0.0</td>\n",
       "      <td>0.0</td>\n",
       "    </tr>\n",
       "    <tr>\n",
       "      <th>...</th>\n",
       "      <td>...</td>\n",
       "      <td>...</td>\n",
       "      <td>...</td>\n",
       "      <td>...</td>\n",
       "      <td>...</td>\n",
       "      <td>...</td>\n",
       "      <td>...</td>\n",
       "      <td>...</td>\n",
       "      <td>...</td>\n",
       "      <td>...</td>\n",
       "      <td>...</td>\n",
       "      <td>...</td>\n",
       "    </tr>\n",
       "    <tr>\n",
       "      <th>100509</th>\n",
       "      <td>NaN</td>\n",
       "      <td>NaN</td>\n",
       "      <td>NaN</td>\n",
       "      <td>NaN</td>\n",
       "      <td>NaN</td>\n",
       "      <td>NaN</td>\n",
       "      <td>NaN</td>\n",
       "      <td>NaN</td>\n",
       "      <td>NaN</td>\n",
       "      <td>NaN</td>\n",
       "      <td>NaN</td>\n",
       "      <td>NaN</td>\n",
       "    </tr>\n",
       "    <tr>\n",
       "      <th>100510</th>\n",
       "      <td>NaN</td>\n",
       "      <td>NaN</td>\n",
       "      <td>NaN</td>\n",
       "      <td>NaN</td>\n",
       "      <td>NaN</td>\n",
       "      <td>NaN</td>\n",
       "      <td>NaN</td>\n",
       "      <td>NaN</td>\n",
       "      <td>NaN</td>\n",
       "      <td>NaN</td>\n",
       "      <td>NaN</td>\n",
       "      <td>NaN</td>\n",
       "    </tr>\n",
       "    <tr>\n",
       "      <th>100511</th>\n",
       "      <td>NaN</td>\n",
       "      <td>NaN</td>\n",
       "      <td>NaN</td>\n",
       "      <td>NaN</td>\n",
       "      <td>NaN</td>\n",
       "      <td>NaN</td>\n",
       "      <td>NaN</td>\n",
       "      <td>NaN</td>\n",
       "      <td>NaN</td>\n",
       "      <td>NaN</td>\n",
       "      <td>NaN</td>\n",
       "      <td>NaN</td>\n",
       "    </tr>\n",
       "    <tr>\n",
       "      <th>100512</th>\n",
       "      <td>NaN</td>\n",
       "      <td>NaN</td>\n",
       "      <td>NaN</td>\n",
       "      <td>NaN</td>\n",
       "      <td>NaN</td>\n",
       "      <td>NaN</td>\n",
       "      <td>NaN</td>\n",
       "      <td>NaN</td>\n",
       "      <td>NaN</td>\n",
       "      <td>NaN</td>\n",
       "      <td>NaN</td>\n",
       "      <td>NaN</td>\n",
       "    </tr>\n",
       "    <tr>\n",
       "      <th>100513</th>\n",
       "      <td>NaN</td>\n",
       "      <td>NaN</td>\n",
       "      <td>NaN</td>\n",
       "      <td>NaN</td>\n",
       "      <td>NaN</td>\n",
       "      <td>NaN</td>\n",
       "      <td>NaN</td>\n",
       "      <td>NaN</td>\n",
       "      <td>NaN</td>\n",
       "      <td>NaN</td>\n",
       "      <td>NaN</td>\n",
       "      <td>NaN</td>\n",
       "    </tr>\n",
       "  </tbody>\n",
       "</table>\n",
       "<p>100514 rows × 12 columns</p>\n",
       "</div>"
      ],
      "text/plain": [
       "        Current Loan Amount  Credit Score  Annual Income  Monthly Debt  \\\n",
       "0                  445412.0         709.0      1167493.0       5214.74   \n",
       "1                  262328.0           NaN            NaN      33295.98   \n",
       "2                99999999.0         741.0      2231892.0      29200.53   \n",
       "3                  347666.0         721.0       806949.0       8741.90   \n",
       "4                  176220.0           NaN            NaN      20639.70   \n",
       "...                     ...           ...            ...           ...   \n",
       "100509                  NaN           NaN            NaN           NaN   \n",
       "100510                  NaN           NaN            NaN           NaN   \n",
       "100511                  NaN           NaN            NaN           NaN   \n",
       "100512                  NaN           NaN            NaN           NaN   \n",
       "100513                  NaN           NaN            NaN           NaN   \n",
       "\n",
       "        Years of Credit History  Months since last delinquent  \\\n",
       "0                          17.2                           NaN   \n",
       "1                          21.1                           8.0   \n",
       "2                          14.9                          29.0   \n",
       "3                          12.0                           NaN   \n",
       "4                           6.1                           NaN   \n",
       "...                         ...                           ...   \n",
       "100509                      NaN                           NaN   \n",
       "100510                      NaN                           NaN   \n",
       "100511                      NaN                           NaN   \n",
       "100512                      NaN                           NaN   \n",
       "100513                      NaN                           NaN   \n",
       "\n",
       "        Number of Open Accounts  Number of Credit Problems  \\\n",
       "0                           6.0                        1.0   \n",
       "1                          35.0                        0.0   \n",
       "2                          18.0                        1.0   \n",
       "3                           9.0                        0.0   \n",
       "4                          15.0                        0.0   \n",
       "...                         ...                        ...   \n",
       "100509                      NaN                        NaN   \n",
       "100510                      NaN                        NaN   \n",
       "100511                      NaN                        NaN   \n",
       "100512                      NaN                        NaN   \n",
       "100513                      NaN                        NaN   \n",
       "\n",
       "        Current Credit Balance  Maximum Open Credit  Bankruptcies  Tax Liens  \n",
       "0                     228190.0             416746.0           1.0        0.0  \n",
       "1                     229976.0             850784.0           0.0        0.0  \n",
       "2                     297996.0             750090.0           0.0        0.0  \n",
       "3                     256329.0             386958.0           0.0        0.0  \n",
       "4                     253460.0             427174.0           0.0        0.0  \n",
       "...                        ...                  ...           ...        ...  \n",
       "100509                     NaN                  NaN           NaN        NaN  \n",
       "100510                     NaN                  NaN           NaN        NaN  \n",
       "100511                     NaN                  NaN           NaN        NaN  \n",
       "100512                     NaN                  NaN           NaN        NaN  \n",
       "100513                     NaN                  NaN           NaN        NaN  \n",
       "\n",
       "[100514 rows x 12 columns]"
      ]
     },
     "execution_count": 17,
     "metadata": {},
     "output_type": "execute_result"
    }
   ],
   "source": [
    "num_col"
   ]
  },
  {
   "cell_type": "code",
   "execution_count": null,
   "id": "1f7a8e9c-783a-446c-8c15-9f8b06fe3dd0",
   "metadata": {},
   "outputs": [],
   "source": [
    "# sns.pairplot(data)"
   ]
  },
  {
   "cell_type": "code",
   "execution_count": null,
   "id": "22c59427-44f8-418c-93d2-255da7c5c00a",
   "metadata": {},
   "outputs": [],
   "source": [
    "# data preprocessing"
   ]
  },
  {
   "cell_type": "code",
   "execution_count": 19,
   "id": "5c352311-da1e-4c09-a6f0-a028bdeb9588",
   "metadata": {},
   "outputs": [
    {
     "data": {
      "text/plain": [
       "Loan ID                           514\n",
       "Customer ID                       514\n",
       "Loan Status                       514\n",
       "Current Loan Amount               514\n",
       "Term                              514\n",
       "Credit Score                    19668\n",
       "Annual Income                   19668\n",
       "Years in current job             4736\n",
       "Home Ownership                    514\n",
       "Purpose                           514\n",
       "Monthly Debt                      514\n",
       "Years of Credit History           514\n",
       "Months since last delinquent    53655\n",
       "Number of Open Accounts           514\n",
       "Number of Credit Problems         514\n",
       "Current Credit Balance            514\n",
       "Maximum Open Credit               516\n",
       "Bankruptcies                      718\n",
       "Tax Liens                         524\n",
       "dtype: int64"
      ]
     },
     "execution_count": 19,
     "metadata": {},
     "output_type": "execute_result"
    }
   ],
   "source": [
    "data.isnull().sum()"
   ]
  },
  {
   "cell_type": "code",
   "execution_count": 20,
   "id": "6b7957a9-fc79-42c5-a90e-295341ae4612",
   "metadata": {},
   "outputs": [],
   "source": [
    "data.drop(['Customer ID','Loan ID'],axis=1,inplace=True)"
   ]
  },
  {
   "cell_type": "code",
   "execution_count": 21,
   "id": "4659b400-01fd-46d6-979d-4af0c0acafab",
   "metadata": {},
   "outputs": [
    {
     "data": {
      "text/html": [
       "<div>\n",
       "<style scoped>\n",
       "    .dataframe tbody tr th:only-of-type {\n",
       "        vertical-align: middle;\n",
       "    }\n",
       "\n",
       "    .dataframe tbody tr th {\n",
       "        vertical-align: top;\n",
       "    }\n",
       "\n",
       "    .dataframe thead th {\n",
       "        text-align: right;\n",
       "    }\n",
       "</style>\n",
       "<table border=\"1\" class=\"dataframe\">\n",
       "  <thead>\n",
       "    <tr style=\"text-align: right;\">\n",
       "      <th></th>\n",
       "      <th>Loan Status</th>\n",
       "      <th>Current Loan Amount</th>\n",
       "      <th>Term</th>\n",
       "      <th>Credit Score</th>\n",
       "      <th>Annual Income</th>\n",
       "      <th>Years in current job</th>\n",
       "      <th>Home Ownership</th>\n",
       "      <th>Purpose</th>\n",
       "      <th>Monthly Debt</th>\n",
       "      <th>Years of Credit History</th>\n",
       "      <th>Months since last delinquent</th>\n",
       "      <th>Number of Open Accounts</th>\n",
       "      <th>Number of Credit Problems</th>\n",
       "      <th>Current Credit Balance</th>\n",
       "      <th>Maximum Open Credit</th>\n",
       "      <th>Bankruptcies</th>\n",
       "      <th>Tax Liens</th>\n",
       "    </tr>\n",
       "  </thead>\n",
       "  <tbody>\n",
       "    <tr>\n",
       "      <th>0</th>\n",
       "      <td>Fully Paid</td>\n",
       "      <td>445412.0</td>\n",
       "      <td>Short Term</td>\n",
       "      <td>709.0</td>\n",
       "      <td>1167493.0</td>\n",
       "      <td>8 years</td>\n",
       "      <td>Home Mortgage</td>\n",
       "      <td>Home Improvements</td>\n",
       "      <td>5214.74</td>\n",
       "      <td>17.2</td>\n",
       "      <td>NaN</td>\n",
       "      <td>6.0</td>\n",
       "      <td>1.0</td>\n",
       "      <td>228190.0</td>\n",
       "      <td>416746.0</td>\n",
       "      <td>1.0</td>\n",
       "      <td>0.0</td>\n",
       "    </tr>\n",
       "    <tr>\n",
       "      <th>1</th>\n",
       "      <td>Fully Paid</td>\n",
       "      <td>262328.0</td>\n",
       "      <td>Short Term</td>\n",
       "      <td>NaN</td>\n",
       "      <td>NaN</td>\n",
       "      <td>10+ years</td>\n",
       "      <td>Home Mortgage</td>\n",
       "      <td>Debt Consolidation</td>\n",
       "      <td>33295.98</td>\n",
       "      <td>21.1</td>\n",
       "      <td>8.0</td>\n",
       "      <td>35.0</td>\n",
       "      <td>0.0</td>\n",
       "      <td>229976.0</td>\n",
       "      <td>850784.0</td>\n",
       "      <td>0.0</td>\n",
       "      <td>0.0</td>\n",
       "    </tr>\n",
       "    <tr>\n",
       "      <th>2</th>\n",
       "      <td>Fully Paid</td>\n",
       "      <td>99999999.0</td>\n",
       "      <td>Short Term</td>\n",
       "      <td>741.0</td>\n",
       "      <td>2231892.0</td>\n",
       "      <td>8 years</td>\n",
       "      <td>Own Home</td>\n",
       "      <td>Debt Consolidation</td>\n",
       "      <td>29200.53</td>\n",
       "      <td>14.9</td>\n",
       "      <td>29.0</td>\n",
       "      <td>18.0</td>\n",
       "      <td>1.0</td>\n",
       "      <td>297996.0</td>\n",
       "      <td>750090.0</td>\n",
       "      <td>0.0</td>\n",
       "      <td>0.0</td>\n",
       "    </tr>\n",
       "    <tr>\n",
       "      <th>3</th>\n",
       "      <td>Fully Paid</td>\n",
       "      <td>347666.0</td>\n",
       "      <td>Long Term</td>\n",
       "      <td>721.0</td>\n",
       "      <td>806949.0</td>\n",
       "      <td>3 years</td>\n",
       "      <td>Own Home</td>\n",
       "      <td>Debt Consolidation</td>\n",
       "      <td>8741.90</td>\n",
       "      <td>12.0</td>\n",
       "      <td>NaN</td>\n",
       "      <td>9.0</td>\n",
       "      <td>0.0</td>\n",
       "      <td>256329.0</td>\n",
       "      <td>386958.0</td>\n",
       "      <td>0.0</td>\n",
       "      <td>0.0</td>\n",
       "    </tr>\n",
       "    <tr>\n",
       "      <th>4</th>\n",
       "      <td>Fully Paid</td>\n",
       "      <td>176220.0</td>\n",
       "      <td>Short Term</td>\n",
       "      <td>NaN</td>\n",
       "      <td>NaN</td>\n",
       "      <td>5 years</td>\n",
       "      <td>Rent</td>\n",
       "      <td>Debt Consolidation</td>\n",
       "      <td>20639.70</td>\n",
       "      <td>6.1</td>\n",
       "      <td>NaN</td>\n",
       "      <td>15.0</td>\n",
       "      <td>0.0</td>\n",
       "      <td>253460.0</td>\n",
       "      <td>427174.0</td>\n",
       "      <td>0.0</td>\n",
       "      <td>0.0</td>\n",
       "    </tr>\n",
       "    <tr>\n",
       "      <th>...</th>\n",
       "      <td>...</td>\n",
       "      <td>...</td>\n",
       "      <td>...</td>\n",
       "      <td>...</td>\n",
       "      <td>...</td>\n",
       "      <td>...</td>\n",
       "      <td>...</td>\n",
       "      <td>...</td>\n",
       "      <td>...</td>\n",
       "      <td>...</td>\n",
       "      <td>...</td>\n",
       "      <td>...</td>\n",
       "      <td>...</td>\n",
       "      <td>...</td>\n",
       "      <td>...</td>\n",
       "      <td>...</td>\n",
       "      <td>...</td>\n",
       "    </tr>\n",
       "    <tr>\n",
       "      <th>100509</th>\n",
       "      <td>NaN</td>\n",
       "      <td>NaN</td>\n",
       "      <td>NaN</td>\n",
       "      <td>NaN</td>\n",
       "      <td>NaN</td>\n",
       "      <td>NaN</td>\n",
       "      <td>NaN</td>\n",
       "      <td>NaN</td>\n",
       "      <td>NaN</td>\n",
       "      <td>NaN</td>\n",
       "      <td>NaN</td>\n",
       "      <td>NaN</td>\n",
       "      <td>NaN</td>\n",
       "      <td>NaN</td>\n",
       "      <td>NaN</td>\n",
       "      <td>NaN</td>\n",
       "      <td>NaN</td>\n",
       "    </tr>\n",
       "    <tr>\n",
       "      <th>100510</th>\n",
       "      <td>NaN</td>\n",
       "      <td>NaN</td>\n",
       "      <td>NaN</td>\n",
       "      <td>NaN</td>\n",
       "      <td>NaN</td>\n",
       "      <td>NaN</td>\n",
       "      <td>NaN</td>\n",
       "      <td>NaN</td>\n",
       "      <td>NaN</td>\n",
       "      <td>NaN</td>\n",
       "      <td>NaN</td>\n",
       "      <td>NaN</td>\n",
       "      <td>NaN</td>\n",
       "      <td>NaN</td>\n",
       "      <td>NaN</td>\n",
       "      <td>NaN</td>\n",
       "      <td>NaN</td>\n",
       "    </tr>\n",
       "    <tr>\n",
       "      <th>100511</th>\n",
       "      <td>NaN</td>\n",
       "      <td>NaN</td>\n",
       "      <td>NaN</td>\n",
       "      <td>NaN</td>\n",
       "      <td>NaN</td>\n",
       "      <td>NaN</td>\n",
       "      <td>NaN</td>\n",
       "      <td>NaN</td>\n",
       "      <td>NaN</td>\n",
       "      <td>NaN</td>\n",
       "      <td>NaN</td>\n",
       "      <td>NaN</td>\n",
       "      <td>NaN</td>\n",
       "      <td>NaN</td>\n",
       "      <td>NaN</td>\n",
       "      <td>NaN</td>\n",
       "      <td>NaN</td>\n",
       "    </tr>\n",
       "    <tr>\n",
       "      <th>100512</th>\n",
       "      <td>NaN</td>\n",
       "      <td>NaN</td>\n",
       "      <td>NaN</td>\n",
       "      <td>NaN</td>\n",
       "      <td>NaN</td>\n",
       "      <td>NaN</td>\n",
       "      <td>NaN</td>\n",
       "      <td>NaN</td>\n",
       "      <td>NaN</td>\n",
       "      <td>NaN</td>\n",
       "      <td>NaN</td>\n",
       "      <td>NaN</td>\n",
       "      <td>NaN</td>\n",
       "      <td>NaN</td>\n",
       "      <td>NaN</td>\n",
       "      <td>NaN</td>\n",
       "      <td>NaN</td>\n",
       "    </tr>\n",
       "    <tr>\n",
       "      <th>100513</th>\n",
       "      <td>NaN</td>\n",
       "      <td>NaN</td>\n",
       "      <td>NaN</td>\n",
       "      <td>NaN</td>\n",
       "      <td>NaN</td>\n",
       "      <td>NaN</td>\n",
       "      <td>NaN</td>\n",
       "      <td>NaN</td>\n",
       "      <td>NaN</td>\n",
       "      <td>NaN</td>\n",
       "      <td>NaN</td>\n",
       "      <td>NaN</td>\n",
       "      <td>NaN</td>\n",
       "      <td>NaN</td>\n",
       "      <td>NaN</td>\n",
       "      <td>NaN</td>\n",
       "      <td>NaN</td>\n",
       "    </tr>\n",
       "  </tbody>\n",
       "</table>\n",
       "<p>100514 rows × 17 columns</p>\n",
       "</div>"
      ],
      "text/plain": [
       "       Loan Status  Current Loan Amount        Term  Credit Score  \\\n",
       "0       Fully Paid             445412.0  Short Term         709.0   \n",
       "1       Fully Paid             262328.0  Short Term           NaN   \n",
       "2       Fully Paid           99999999.0  Short Term         741.0   \n",
       "3       Fully Paid             347666.0   Long Term         721.0   \n",
       "4       Fully Paid             176220.0  Short Term           NaN   \n",
       "...            ...                  ...         ...           ...   \n",
       "100509         NaN                  NaN         NaN           NaN   \n",
       "100510         NaN                  NaN         NaN           NaN   \n",
       "100511         NaN                  NaN         NaN           NaN   \n",
       "100512         NaN                  NaN         NaN           NaN   \n",
       "100513         NaN                  NaN         NaN           NaN   \n",
       "\n",
       "        Annual Income Years in current job Home Ownership             Purpose  \\\n",
       "0           1167493.0              8 years  Home Mortgage   Home Improvements   \n",
       "1                 NaN            10+ years  Home Mortgage  Debt Consolidation   \n",
       "2           2231892.0              8 years       Own Home  Debt Consolidation   \n",
       "3            806949.0              3 years       Own Home  Debt Consolidation   \n",
       "4                 NaN              5 years           Rent  Debt Consolidation   \n",
       "...               ...                  ...            ...                 ...   \n",
       "100509            NaN                  NaN            NaN                 NaN   \n",
       "100510            NaN                  NaN            NaN                 NaN   \n",
       "100511            NaN                  NaN            NaN                 NaN   \n",
       "100512            NaN                  NaN            NaN                 NaN   \n",
       "100513            NaN                  NaN            NaN                 NaN   \n",
       "\n",
       "        Monthly Debt  Years of Credit History  Months since last delinquent  \\\n",
       "0            5214.74                     17.2                           NaN   \n",
       "1           33295.98                     21.1                           8.0   \n",
       "2           29200.53                     14.9                          29.0   \n",
       "3            8741.90                     12.0                           NaN   \n",
       "4           20639.70                      6.1                           NaN   \n",
       "...              ...                      ...                           ...   \n",
       "100509           NaN                      NaN                           NaN   \n",
       "100510           NaN                      NaN                           NaN   \n",
       "100511           NaN                      NaN                           NaN   \n",
       "100512           NaN                      NaN                           NaN   \n",
       "100513           NaN                      NaN                           NaN   \n",
       "\n",
       "        Number of Open Accounts  Number of Credit Problems  \\\n",
       "0                           6.0                        1.0   \n",
       "1                          35.0                        0.0   \n",
       "2                          18.0                        1.0   \n",
       "3                           9.0                        0.0   \n",
       "4                          15.0                        0.0   \n",
       "...                         ...                        ...   \n",
       "100509                      NaN                        NaN   \n",
       "100510                      NaN                        NaN   \n",
       "100511                      NaN                        NaN   \n",
       "100512                      NaN                        NaN   \n",
       "100513                      NaN                        NaN   \n",
       "\n",
       "        Current Credit Balance  Maximum Open Credit  Bankruptcies  Tax Liens  \n",
       "0                     228190.0             416746.0           1.0        0.0  \n",
       "1                     229976.0             850784.0           0.0        0.0  \n",
       "2                     297996.0             750090.0           0.0        0.0  \n",
       "3                     256329.0             386958.0           0.0        0.0  \n",
       "4                     253460.0             427174.0           0.0        0.0  \n",
       "...                        ...                  ...           ...        ...  \n",
       "100509                     NaN                  NaN           NaN        NaN  \n",
       "100510                     NaN                  NaN           NaN        NaN  \n",
       "100511                     NaN                  NaN           NaN        NaN  \n",
       "100512                     NaN                  NaN           NaN        NaN  \n",
       "100513                     NaN                  NaN           NaN        NaN  \n",
       "\n",
       "[100514 rows x 17 columns]"
      ]
     },
     "execution_count": 21,
     "metadata": {},
     "output_type": "execute_result"
    }
   ],
   "source": [
    "data"
   ]
  },
  {
   "cell_type": "code",
   "execution_count": 22,
   "id": "c9811078-8eef-4535-83a0-e3cbcea52527",
   "metadata": {},
   "outputs": [],
   "source": [
    "data.loc[data['Loan Status'].isnull()==True,['Loan Status']]='Fully Paid'\n",
    "data.loc[data['Current Loan Amount'].isnull()==True,'Current Loan Amount']=data['Current Loan Amount'].median()\n",
    "data.loc[data['Term'].isnull()==True,'Term']='Short Term'\n",
    "data.loc[data['Credit Score'].isnull()==True,'Credit Score']=data['Credit Score'].median()\n",
    "data.loc[data['Annual Income'].isnull()==True,'Annual Income']=data['Annual Income'].median()\n",
    "data.loc[data['Years in current job'].isnull()==True,'Years in current job']='10+ years'\n",
    "data.loc[data['Home Ownership'].isnull()==True,'Home Ownership']='Home Mortgage'\n",
    "data.loc[data['Purpose'].isnull()==True,'Purpose']='Debt Consolidation'\n",
    "data.loc[data['Monthly Debt'].isnull()==True,'Monthly Debt']=data['Monthly Debt'].median()\n",
    "data.loc[data['Years of Credit History'].isnull()==True,'Years of Credit History']=data['Years of Credit History'].median()\n",
    "data.loc[data['Months since last delinquent'].isnull()==True,'Months since last delinquent']=data['Months since last delinquent'].median()"
   ]
  },
  {
   "cell_type": "code",
   "execution_count": 23,
   "id": "c871822c-0882-45a5-ab4b-b5e4171fb675",
   "metadata": {},
   "outputs": [
    {
     "data": {
      "text/plain": [
       "Loan Status                       0\n",
       "Current Loan Amount               0\n",
       "Term                              0\n",
       "Credit Score                      0\n",
       "Annual Income                     0\n",
       "Years in current job              0\n",
       "Home Ownership                    0\n",
       "Purpose                           0\n",
       "Monthly Debt                      0\n",
       "Years of Credit History           0\n",
       "Months since last delinquent      0\n",
       "Number of Open Accounts         514\n",
       "Number of Credit Problems       514\n",
       "Current Credit Balance          514\n",
       "Maximum Open Credit             516\n",
       "Bankruptcies                    718\n",
       "Tax Liens                       524\n",
       "dtype: int64"
      ]
     },
     "execution_count": 23,
     "metadata": {},
     "output_type": "execute_result"
    }
   ],
   "source": [
    "data.isnull().sum()"
   ]
  },
  {
   "cell_type": "code",
   "execution_count": null,
   "id": "ac96a628-0355-4947-bd29-cb0e91122660",
   "metadata": {},
   "outputs": [],
   "source": []
  },
  {
   "cell_type": "code",
   "execution_count": 24,
   "id": "837b20f4-661e-4262-99a0-168fe048c321",
   "metadata": {
    "scrolled": true
   },
   "outputs": [],
   "source": [
    "data.loc[data['Number of Open Accounts'].isnull()==True,'Number of Open Accounts']=data['Number of Open Accounts'].median()\n",
    "data.loc[data['Number of Credit Problems'].isnull()==True,'Number of Credit Problems']=data['Number of Credit Problems'].median()\n",
    "data.loc[data['Current Credit Balance'].isnull()==True,'Current Credit Balance']=data['Current Credit Balance'].median()\n",
    "data.loc[data['Maximum Open Credit'].isnull()==True,'Maximum Open Credit']=data['Maximum Open Credit'].median()\n",
    "data.loc[data['Bankruptcies'].isnull()==True,'Bankruptcies']=data['Bankruptcies'].median()\n",
    "data.loc[data['Tax Liens'].isnull()==True,'Tax Liens']=data['Tax Liens'].median()\n",
    "data.loc[data['Months since last delinquent'].isnull()==True,'Months since last delinquent']=data['Months since last delinquent'].median()"
   ]
  },
  {
   "cell_type": "code",
   "execution_count": 25,
   "id": "898e401b-82be-4e06-b204-4060cb0dce29",
   "metadata": {},
   "outputs": [
    {
     "data": {
      "text/plain": [
       "Loan Status                     0\n",
       "Current Loan Amount             0\n",
       "Term                            0\n",
       "Credit Score                    0\n",
       "Annual Income                   0\n",
       "Years in current job            0\n",
       "Home Ownership                  0\n",
       "Purpose                         0\n",
       "Monthly Debt                    0\n",
       "Years of Credit History         0\n",
       "Months since last delinquent    0\n",
       "Number of Open Accounts         0\n",
       "Number of Credit Problems       0\n",
       "Current Credit Balance          0\n",
       "Maximum Open Credit             0\n",
       "Bankruptcies                    0\n",
       "Tax Liens                       0\n",
       "dtype: int64"
      ]
     },
     "execution_count": 25,
     "metadata": {},
     "output_type": "execute_result"
    }
   ],
   "source": [
    "data.isnull().sum()"
   ]
  },
  {
   "cell_type": "code",
   "execution_count": 26,
   "id": "211953b4-f53d-4529-8aca-494f0fd80275",
   "metadata": {},
   "outputs": [
    {
     "data": {
      "image/png": "[encoded data removed]",
      "text/plain": [
       "<Figure size 1500x2500 with 12 Axes>"
      ]
     },
     "metadata": {},
     "output_type": "display_data"
    }
   ],
   "source": [
    "plt.figure(figsize=(15,25),facecolor='white')\n",
    "plotnumber=1\n",
    "for column in num_col:\n",
    "    if plotnumber<=15:\n",
    "        ax=plt.subplot(5,3,plotnumber)\n",
    "        sns.boxplot(x=num_col[column])\n",
    "        plt.xlabel(column)\n",
    "    plotnumber+=1\n",
    "plt.tight_layout()"
   ]
  },
  {
   "cell_type": "code",
   "execution_count": 27,
   "id": "8603357e-b8ad-4c69-af05-8cd3faed7d4b",
   "metadata": {},
   "outputs": [],
   "source": [
    "# handling outliers"
   ]
  },
  {
   "cell_type": "code",
   "execution_count": 28,
   "id": "0de84156-59ec-4e85-ab65-dc56e5f376ab",
   "metadata": {},
   "outputs": [],
   "source": [
    "q1=data['Credit Score'].quantile(0.25)\n",
    "q3=data['Credit Score'].quantile(0.75)"
   ]
  },
  {
   "cell_type": "code",
   "execution_count": 29,
   "id": "70e5a0ba-9b1e-4cdc-9e4f-845892422ee1",
   "metadata": {},
   "outputs": [],
   "source": [
    "IQR=q3-q1"
   ]
  },
  {
   "cell_type": "code",
   "execution_count": 30,
   "id": "8f68740c-ab80-448e-8b21-c55291759ad4",
   "metadata": {},
   "outputs": [],
   "source": [
    "upper_limit=q3+1.5*IQR\n",
    "lower_limit=q1-1.5*IQR"
   ]
  },
  {
   "cell_type": "code",
   "execution_count": 31,
   "id": "4c6dea15-eb2a-4fcb-9b7b-79bc66211264",
   "metadata": {},
   "outputs": [
    {
     "data": {
      "text/plain": [
       "5.70368306902521"
      ]
     },
     "execution_count": 31,
     "metadata": {},
     "output_type": "execute_result"
    }
   ],
   "source": [
    "len(data.loc[data['Credit Score']<lower_limit])/len(data)*100\n",
    "# data having greater than 5 percent lower limit so we do not handle it"
   ]
  },
  {
   "cell_type": "code",
   "execution_count": 32,
   "id": "061754a4-31dc-4e22-903d-3b5099dbdb33",
   "metadata": {},
   "outputs": [],
   "source": [
    "q1=data['Annual Income'].quantile(0.25)\n",
    "q3=data['Annual Income'].quantile(0.75)\n",
    "IQR=q3-q1\n",
    "upper_limit=q3+1.5*IQR\n",
    "lower_limit=q1-1.5*IQR\n",
    "# data having greater than 5 percent lower limit so we do not handle it"
   ]
  },
  {
   "cell_type": "code",
   "execution_count": 33,
   "id": "305ce865-f88c-44e0-a91a-8596710416c9",
   "metadata": {},
   "outputs": [],
   "source": [
    "q1=data['Monthly Debt'].quantile(0.25)\n",
    "q3=data['Monthly Debt'].quantile(0.75)\n",
    "IQR=q3-q1\n",
    "upper_limit=q3+1.5*IQR\n",
    "lower_limit=q1-1.5*IQR"
   ]
  },
  {
   "cell_type": "code",
   "execution_count": 34,
   "id": "96e4ee01-8fd1-4a80-95da-4797c18de985",
   "metadata": {},
   "outputs": [
    {
     "data": {
      "text/plain": [
       "3.4025110929820723"
      ]
     },
     "execution_count": 34,
     "metadata": {},
     "output_type": "execute_result"
    }
   ],
   "source": [
    "len(data.loc[data['Monthly Debt']>upper_limit])/len(data)*100"
   ]
  },
  {
   "cell_type": "code",
   "execution_count": 35,
   "id": "7a66d13b-ccbc-4bf1-8a9b-0b23c8800e0f",
   "metadata": {},
   "outputs": [],
   "source": [
    "# using meidan to compute outlier because data is skewed"
   ]
  },
  {
   "cell_type": "code",
   "execution_count": 36,
   "id": "332445b7-a6b8-4ca7-8a4e-c6365efdfa4f",
   "metadata": {},
   "outputs": [],
   "source": [
    "data.loc[data['Monthly Debt']>upper_limit,'Monthly Debt']=data['Monthly Debt'].median()"
   ]
  },
  {
   "cell_type": "code",
   "execution_count": 37,
   "id": "2d027102-f595-4268-a735-dd9ec60c0c0b",
   "metadata": {},
   "outputs": [
    {
     "data": {
      "text/html": [
       "<div>\n",
       "<style scoped>\n",
       "    .dataframe tbody tr th:only-of-type {\n",
       "        vertical-align: middle;\n",
       "    }\n",
       "\n",
       "    .dataframe tbody tr th {\n",
       "        vertical-align: top;\n",
       "    }\n",
       "\n",
       "    .dataframe thead th {\n",
       "        text-align: right;\n",
       "    }\n",
       "</style>\n",
       "<table border=\"1\" class=\"dataframe\">\n",
       "  <thead>\n",
       "    <tr style=\"text-align: right;\">\n",
       "      <th></th>\n",
       "      <th>Loan Status</th>\n",
       "      <th>Current Loan Amount</th>\n",
       "      <th>Term</th>\n",
       "      <th>Credit Score</th>\n",
       "      <th>Annual Income</th>\n",
       "      <th>Years in current job</th>\n",
       "      <th>Home Ownership</th>\n",
       "      <th>Purpose</th>\n",
       "      <th>Monthly Debt</th>\n",
       "      <th>Years of Credit History</th>\n",
       "      <th>Months since last delinquent</th>\n",
       "      <th>Number of Open Accounts</th>\n",
       "      <th>Number of Credit Problems</th>\n",
       "      <th>Current Credit Balance</th>\n",
       "      <th>Maximum Open Credit</th>\n",
       "      <th>Bankruptcies</th>\n",
       "      <th>Tax Liens</th>\n",
       "    </tr>\n",
       "  </thead>\n",
       "  <tbody>\n",
       "  </tbody>\n",
       "</table>\n",
       "</div>"
      ],
      "text/plain": [
       "Empty DataFrame\n",
       "Columns: [Loan Status, Current Loan Amount, Term, Credit Score, Annual Income, Years in current job, Home Ownership, Purpose, Monthly Debt, Years of Credit History, Months since last delinquent, Number of Open Accounts, Number of Credit Problems, Current Credit Balance, Maximum Open Credit, Bankruptcies, Tax Liens]\n",
       "Index: []"
      ]
     },
     "execution_count": 37,
     "metadata": {},
     "output_type": "execute_result"
    }
   ],
   "source": [
    "data.loc[data['Monthly Debt']>upper_limit]"
   ]
  },
  {
   "cell_type": "code",
   "execution_count": 38,
   "id": "5b0442c7-3465-4699-b3fb-308ddabb9975",
   "metadata": {},
   "outputs": [],
   "source": [
    "q1=data['Years of Credit History'].quantile(0.25)\n",
    "q3=data['Years of Credit History'].quantile(0.75)\n",
    "IQR=q3-q1\n",
    "upper_limit=q3+1.5*IQR\n",
    "lower_limit=q1-1.5*IQR"
   ]
  },
  {
   "cell_type": "code",
   "execution_count": 39,
   "id": "c1e2a32f-4d36-47a6-b783-e7ff7ba20d29",
   "metadata": {},
   "outputs": [
    {
     "data": {
      "text/plain": [
       "3.282129852557852"
      ]
     },
     "execution_count": 39,
     "metadata": {},
     "output_type": "execute_result"
    }
   ],
   "source": [
    "len(data.loc[data['Years of Credit History']>upper_limit])/len(data)*100"
   ]
  },
  {
   "cell_type": "code",
   "execution_count": 40,
   "id": "e808bb66-a65f-48e3-b81f-29df259dca8c",
   "metadata": {},
   "outputs": [],
   "source": [
    "data.loc[data['Years of Credit History']>upper_limit,'Years of Credit History']=data['Years of Credit History'].median()"
   ]
  },
  {
   "cell_type": "code",
   "execution_count": 41,
   "id": "7d11cb01-d0e0-44f3-b20a-874d0095dd1f",
   "metadata": {},
   "outputs": [],
   "source": [
    "q1=data['Number of Open Accounts'].quantile(0.25)\n",
    "q3=data['Number of Open Accounts'].quantile(0.75)\n",
    "IQR=q3-q1\n",
    "upper_limit=q3+1.5*IQR\n",
    "lower_limit=q1-1.5*IQR"
   ]
  },
  {
   "cell_type": "code",
   "execution_count": 42,
   "id": "5a8bd583-251c-44a5-858c-d1a298152aa0",
   "metadata": {},
   "outputs": [],
   "source": [
    "data.loc[data['Number of Open Accounts']>upper_limit,'Number of Open Accounts']=data['Number of Open Accounts'].median()"
   ]
  },
  {
   "cell_type": "code",
   "execution_count": 43,
   "id": "9f482725-38ec-491c-baeb-711b7189a6b4",
   "metadata": {},
   "outputs": [
    {
     "data": {
      "text/html": [
       "<div>\n",
       "<style scoped>\n",
       "    .dataframe tbody tr th:only-of-type {\n",
       "        vertical-align: middle;\n",
       "    }\n",
       "\n",
       "    .dataframe tbody tr th {\n",
       "        vertical-align: top;\n",
       "    }\n",
       "\n",
       "    .dataframe thead th {\n",
       "        text-align: right;\n",
       "    }\n",
       "</style>\n",
       "<table border=\"1\" class=\"dataframe\">\n",
       "  <thead>\n",
       "    <tr style=\"text-align: right;\">\n",
       "      <th></th>\n",
       "      <th>Loan Status</th>\n",
       "      <th>Current Loan Amount</th>\n",
       "      <th>Term</th>\n",
       "      <th>Credit Score</th>\n",
       "      <th>Annual Income</th>\n",
       "      <th>Years in current job</th>\n",
       "      <th>Home Ownership</th>\n",
       "      <th>Purpose</th>\n",
       "      <th>Monthly Debt</th>\n",
       "      <th>Years of Credit History</th>\n",
       "      <th>Months since last delinquent</th>\n",
       "      <th>Number of Open Accounts</th>\n",
       "      <th>Number of Credit Problems</th>\n",
       "      <th>Current Credit Balance</th>\n",
       "      <th>Maximum Open Credit</th>\n",
       "      <th>Bankruptcies</th>\n",
       "      <th>Tax Liens</th>\n",
       "    </tr>\n",
       "  </thead>\n",
       "  <tbody>\n",
       "  </tbody>\n",
       "</table>\n",
       "</div>"
      ],
      "text/plain": [
       "Empty DataFrame\n",
       "Columns: [Loan Status, Current Loan Amount, Term, Credit Score, Annual Income, Years in current job, Home Ownership, Purpose, Monthly Debt, Years of Credit History, Months since last delinquent, Number of Open Accounts, Number of Credit Problems, Current Credit Balance, Maximum Open Credit, Bankruptcies, Tax Liens]\n",
       "Index: []"
      ]
     },
     "execution_count": 43,
     "metadata": {},
     "output_type": "execute_result"
    }
   ],
   "source": [
    "data.loc[data['Number of Open Accounts']>upper_limit]"
   ]
  },
  {
   "cell_type": "code",
   "execution_count": 44,
   "id": "2928f742-08a4-4dfd-8510-fd9a54299259",
   "metadata": {},
   "outputs": [],
   "source": [
    "q1=data['Number of Credit Problems'].quantile(0.25)\n",
    "q3=data['Number of Credit Problems'].quantile(0.75)\n",
    "IQR=q3-q1\n",
    "upper_limit=q3+1.5*IQR\n",
    "lower_limit=q1-1.5*IQR"
   ]
  },
  {
   "cell_type": "code",
   "execution_count": 45,
   "id": "353e57bc-4caa-4667-8688-bcc0ff5ab396",
   "metadata": {},
   "outputs": [
    {
     "data": {
      "text/plain": [
       "13.893586963010126"
      ]
     },
     "execution_count": 45,
     "metadata": {},
     "output_type": "execute_result"
    }
   ],
   "source": [
    "len(data.loc[data['Number of Credit Problems']>upper_limit])/len(data)*100\n",
    "# greater than 5 percent"
   ]
  },
  {
   "cell_type": "code",
   "execution_count": 46,
   "id": "80b60a08-0da7-473e-957e-36da4e03cbac",
   "metadata": {},
   "outputs": [],
   "source": [
    "q1=data['Current Credit Balance'].quantile(0.25)\n",
    "q3=data['Current Credit Balance'].quantile(0.75)\n",
    "IQR=q3-q1\n",
    "upper_limit=q3+1.5*IQR\n",
    "lower_limit=q1-1.5*IQR"
   ]
  },
  {
   "cell_type": "code",
   "execution_count": 47,
   "id": "a6f97919-fc0d-4c96-9ec3-6b319b9d9490",
   "metadata": {},
   "outputs": [
    {
     "data": {
      "text/plain": [
       "5.231112083888812"
      ]
     },
     "execution_count": 47,
     "metadata": {},
     "output_type": "execute_result"
    }
   ],
   "source": [
    "len(data.loc[data['Current Credit Balance']>upper_limit])/len(data)*100\n",
    "# greater than 5 percent"
   ]
  },
  {
   "cell_type": "code",
   "execution_count": 48,
   "id": "b7f3e589-bfc7-4316-a02d-45eaa14fbfe0",
   "metadata": {},
   "outputs": [],
   "source": [
    "q1=data['Maximum Open Credit'].quantile(0.25)\n",
    "q3=data['Maximum Open Credit'].quantile(0.75)\n",
    "IQR=q3-q1\n",
    "upper_limit=q3+1.5*IQR\n",
    "lower_limit=q1-1.5*IQR"
   ]
  },
  {
   "cell_type": "code",
   "execution_count": 49,
   "id": "b1c3addc-25f2-4737-9ea6-1eb336356db9",
   "metadata": {},
   "outputs": [
    {
     "data": {
      "text/plain": [
       "5.791233062061006"
      ]
     },
     "execution_count": 49,
     "metadata": {},
     "output_type": "execute_result"
    }
   ],
   "source": [
    "len(data.loc[data['Maximum Open Credit']>upper_limit])/len(data)*100\n",
    "# greater than 5 percent"
   ]
  },
  {
   "cell_type": "code",
   "execution_count": 50,
   "id": "d9f168bc-fddd-4ce0-9f99-ecfc71e81a9f",
   "metadata": {},
   "outputs": [],
   "source": [
    "q1=data['Bankruptcies'].quantile(0.25)\n",
    "q3=data['Bankruptcies'].quantile(0.75)\n",
    "IQR=q3-q1\n",
    "upper_limit=q3+1.5*IQR\n",
    "lower_limit=q1-1.5*IQR"
   ]
  },
  {
   "cell_type": "code",
   "execution_count": 51,
   "id": "da85efca-de94-440f-9b8f-061d74d004c0",
   "metadata": {},
   "outputs": [
    {
     "data": {
      "text/plain": [
       "10.96563662773345"
      ]
     },
     "execution_count": 51,
     "metadata": {},
     "output_type": "execute_result"
    }
   ],
   "source": [
    "len(data.loc[data['Bankruptcies']>upper_limit])/len(data)*100"
   ]
  },
  {
   "cell_type": "code",
   "execution_count": 52,
   "id": "161ae4b4-2009-4f9e-85f8-21b44eebd96f",
   "metadata": {},
   "outputs": [],
   "source": [
    "q1=data['Tax Liens'].quantile(0.25)\n",
    "q3=data['Tax Liens'].quantile(0.75)\n",
    "IQR=q3-q1\n",
    "upper_quantile=q3+1.5*IQR\n",
    "lower_quantile=q1-1.5*IQR"
   ]
  },
  {
   "cell_type": "code",
   "execution_count": 53,
   "id": "aca1ae6c-f51b-49cd-93d3-d3af8523c998",
   "metadata": {},
   "outputs": [
    {
     "data": {
      "text/plain": [
       "1.9181407565115307"
      ]
     },
     "execution_count": 53,
     "metadata": {},
     "output_type": "execute_result"
    }
   ],
   "source": [
    "len(data.loc[data['Tax Liens']>upper_limit])/len(data)*100"
   ]
  },
  {
   "cell_type": "code",
   "execution_count": 54,
   "id": "8aa2dabd-496b-46aa-941e-a5968422b4a9",
   "metadata": {},
   "outputs": [],
   "source": [
    "data.loc[data['Tax Liens']>upper_limit,'Tax Liens']=data['Tax Liens'].median()"
   ]
  },
  {
   "cell_type": "code",
   "execution_count": 55,
   "id": "e72dc455-2ee3-416c-8e4b-94cde3f60e2c",
   "metadata": {},
   "outputs": [
    {
     "data": {
      "text/html": [
       "<div>\n",
       "<style scoped>\n",
       "    .dataframe tbody tr th:only-of-type {\n",
       "        vertical-align: middle;\n",
       "    }\n",
       "\n",
       "    .dataframe tbody tr th {\n",
       "        vertical-align: top;\n",
       "    }\n",
       "\n",
       "    .dataframe thead th {\n",
       "        text-align: right;\n",
       "    }\n",
       "</style>\n",
       "<table border=\"1\" class=\"dataframe\">\n",
       "  <thead>\n",
       "    <tr style=\"text-align: right;\">\n",
       "      <th></th>\n",
       "      <th>Loan ID</th>\n",
       "      <th>Customer ID</th>\n",
       "      <th>Loan Status</th>\n",
       "      <th>Term</th>\n",
       "      <th>Years in current job</th>\n",
       "      <th>Home Ownership</th>\n",
       "      <th>Purpose</th>\n",
       "    </tr>\n",
       "  </thead>\n",
       "  <tbody>\n",
       "    <tr>\n",
       "      <th>0</th>\n",
       "      <td>14dd8831-6af5-400b-83ec-68e61888a048</td>\n",
       "      <td>981165ec-3274-42f5-a3b4-d104041a9ca9</td>\n",
       "      <td>Fully Paid</td>\n",
       "      <td>Short Term</td>\n",
       "      <td>8 years</td>\n",
       "      <td>Home Mortgage</td>\n",
       "      <td>Home Improvements</td>\n",
       "    </tr>\n",
       "    <tr>\n",
       "      <th>1</th>\n",
       "      <td>4771cc26-131a-45db-b5aa-537ea4ba5342</td>\n",
       "      <td>2de017a3-2e01-49cb-a581-08169e83be29</td>\n",
       "      <td>Fully Paid</td>\n",
       "      <td>Short Term</td>\n",
       "      <td>10+ years</td>\n",
       "      <td>Home Mortgage</td>\n",
       "      <td>Debt Consolidation</td>\n",
       "    </tr>\n",
       "    <tr>\n",
       "      <th>2</th>\n",
       "      <td>4eed4e6a-aa2f-4c91-8651-ce984ee8fb26</td>\n",
       "      <td>5efb2b2b-bf11-4dfd-a572-3761a2694725</td>\n",
       "      <td>Fully Paid</td>\n",
       "      <td>Short Term</td>\n",
       "      <td>8 years</td>\n",
       "      <td>Own Home</td>\n",
       "      <td>Debt Consolidation</td>\n",
       "    </tr>\n",
       "    <tr>\n",
       "      <th>3</th>\n",
       "      <td>77598f7b-32e7-4e3b-a6e5-06ba0d98fe8a</td>\n",
       "      <td>e777faab-98ae-45af-9a86-7ce5b33b1011</td>\n",
       "      <td>Fully Paid</td>\n",
       "      <td>Long Term</td>\n",
       "      <td>3 years</td>\n",
       "      <td>Own Home</td>\n",
       "      <td>Debt Consolidation</td>\n",
       "    </tr>\n",
       "    <tr>\n",
       "      <th>4</th>\n",
       "      <td>d4062e70-befa-4995-8643-a0de73938182</td>\n",
       "      <td>81536ad9-5ccf-4eb8-befb-47a4d608658e</td>\n",
       "      <td>Fully Paid</td>\n",
       "      <td>Short Term</td>\n",
       "      <td>5 years</td>\n",
       "      <td>Rent</td>\n",
       "      <td>Debt Consolidation</td>\n",
       "    </tr>\n",
       "    <tr>\n",
       "      <th>...</th>\n",
       "      <td>...</td>\n",
       "      <td>...</td>\n",
       "      <td>...</td>\n",
       "      <td>...</td>\n",
       "      <td>...</td>\n",
       "      <td>...</td>\n",
       "      <td>...</td>\n",
       "    </tr>\n",
       "    <tr>\n",
       "      <th>100509</th>\n",
       "      <td>NaN</td>\n",
       "      <td>NaN</td>\n",
       "      <td>NaN</td>\n",
       "      <td>NaN</td>\n",
       "      <td>NaN</td>\n",
       "      <td>NaN</td>\n",
       "      <td>NaN</td>\n",
       "    </tr>\n",
       "    <tr>\n",
       "      <th>100510</th>\n",
       "      <td>NaN</td>\n",
       "      <td>NaN</td>\n",
       "      <td>NaN</td>\n",
       "      <td>NaN</td>\n",
       "      <td>NaN</td>\n",
       "      <td>NaN</td>\n",
       "      <td>NaN</td>\n",
       "    </tr>\n",
       "    <tr>\n",
       "      <th>100511</th>\n",
       "      <td>NaN</td>\n",
       "      <td>NaN</td>\n",
       "      <td>NaN</td>\n",
       "      <td>NaN</td>\n",
       "      <td>NaN</td>\n",
       "      <td>NaN</td>\n",
       "      <td>NaN</td>\n",
       "    </tr>\n",
       "    <tr>\n",
       "      <th>100512</th>\n",
       "      <td>NaN</td>\n",
       "      <td>NaN</td>\n",
       "      <td>NaN</td>\n",
       "      <td>NaN</td>\n",
       "      <td>NaN</td>\n",
       "      <td>NaN</td>\n",
       "      <td>NaN</td>\n",
       "    </tr>\n",
       "    <tr>\n",
       "      <th>100513</th>\n",
       "      <td>NaN</td>\n",
       "      <td>NaN</td>\n",
       "      <td>NaN</td>\n",
       "      <td>NaN</td>\n",
       "      <td>NaN</td>\n",
       "      <td>NaN</td>\n",
       "      <td>NaN</td>\n",
       "    </tr>\n",
       "  </tbody>\n",
       "</table>\n",
       "<p>100514 rows × 7 columns</p>\n",
       "</div>"
      ],
      "text/plain": [
       "                                     Loan ID  \\\n",
       "0       14dd8831-6af5-400b-83ec-68e61888a048   \n",
       "1       4771cc26-131a-45db-b5aa-537ea4ba5342   \n",
       "2       4eed4e6a-aa2f-4c91-8651-ce984ee8fb26   \n",
       "3       77598f7b-32e7-4e3b-a6e5-06ba0d98fe8a   \n",
       "4       d4062e70-befa-4995-8643-a0de73938182   \n",
       "...                                      ...   \n",
       "100509                                   NaN   \n",
       "100510                                   NaN   \n",
       "100511                                   NaN   \n",
       "100512                                   NaN   \n",
       "100513                                   NaN   \n",
       "\n",
       "                                 Customer ID Loan Status        Term  \\\n",
       "0       981165ec-3274-42f5-a3b4-d104041a9ca9  Fully Paid  Short Term   \n",
       "1       2de017a3-2e01-49cb-a581-08169e83be29  Fully Paid  Short Term   \n",
       "2       5efb2b2b-bf11-4dfd-a572-3761a2694725  Fully Paid  Short Term   \n",
       "3       e777faab-98ae-45af-9a86-7ce5b33b1011  Fully Paid   Long Term   \n",
       "4       81536ad9-5ccf-4eb8-befb-47a4d608658e  Fully Paid  Short Term   \n",
       "...                                      ...         ...         ...   \n",
       "100509                                   NaN         NaN         NaN   \n",
       "100510                                   NaN         NaN         NaN   \n",
       "100511                                   NaN         NaN         NaN   \n",
       "100512                                   NaN         NaN         NaN   \n",
       "100513                                   NaN         NaN         NaN   \n",
       "\n",
       "       Years in current job Home Ownership             Purpose  \n",
       "0                   8 years  Home Mortgage   Home Improvements  \n",
       "1                 10+ years  Home Mortgage  Debt Consolidation  \n",
       "2                   8 years       Own Home  Debt Consolidation  \n",
       "3                   3 years       Own Home  Debt Consolidation  \n",
       "4                   5 years           Rent  Debt Consolidation  \n",
       "...                     ...            ...                 ...  \n",
       "100509                  NaN            NaN                 NaN  \n",
       "100510                  NaN            NaN                 NaN  \n",
       "100511                  NaN            NaN                 NaN  \n",
       "100512                  NaN            NaN                 NaN  \n",
       "100513                  NaN            NaN                 NaN  \n",
       "\n",
       "[100514 rows x 7 columns]"
      ]
     },
     "execution_count": 55,
     "metadata": {},
     "output_type": "execute_result"
    }
   ],
   "source": [
    "cat_col"
   ]
  },
  {
   "cell_type": "code",
   "execution_count": 56,
   "id": "85303ff9-116a-491a-a12a-48cefee938b7",
   "metadata": {},
   "outputs": [],
   "source": [
    "#to convert categorical data into numrical data \n",
    "from sklearn.preprocessing import LabelEncoder\n",
    "lb=LabelEncoder()"
   ]
  },
  {
   "cell_type": "code",
   "execution_count": 57,
   "id": "18ada7a6-1622-4ae6-ba39-03eecfdad2f2",
   "metadata": {},
   "outputs": [],
   "source": [
    "data['Loan Status']=lb.fit_transform(data['Loan Status'])"
   ]
  },
  {
   "cell_type": "code",
   "execution_count": 58,
   "id": "96c120a3-5adc-40a1-88d3-4fd442b4afb7",
   "metadata": {},
   "outputs": [],
   "source": [
    "data['Term']=lb.fit_transform(data['Term'])"
   ]
  },
  {
   "cell_type": "code",
   "execution_count": 59,
   "id": "87c5b3a7-e6af-4312-adfa-7225e25c7af8",
   "metadata": {},
   "outputs": [
    {
     "data": {
      "text/plain": [
       "array(['8 years', '10+ years', '3 years', '5 years', '< 1 year',\n",
       "       '2 years', '4 years', '9 years', '7 years', '1 year', '6 years'],\n",
       "      dtype=object)"
      ]
     },
     "execution_count": 59,
     "metadata": {},
     "output_type": "execute_result"
    }
   ],
   "source": [
    "data['Years in current job'].unique()"
   ]
  },
  {
   "cell_type": "code",
   "execution_count": 61,
   "id": "d8f9b966-dbf0-4356-9a35-4333d1c428e5",
   "metadata": {},
   "outputs": [
    {
     "data": {
      "text/plain": [
       "Years in current job\n",
       "10+ years    35857\n",
       "2 years       9134\n",
       "3 years       8169\n",
       "< 1 year      8164\n",
       "5 years       6787\n",
       "1 year        6460\n",
       "4 years       6143\n",
       "6 years       5686\n",
       "7 years       5577\n",
       "8 years       4582\n",
       "9 years       3955\n",
       "Name: count, dtype: int64"
      ]
     },
     "execution_count": 61,
     "metadata": {},
     "output_type": "execute_result"
    }
   ],
   "source": [
    "data['Years in current job'].value_counts(sort=True)"
   ]
  },
  {
   "cell_type": "code",
   "execution_count": 62,
   "id": "e9fc9e6e-f55d-444a-9278-f9a684faec97",
   "metadata": {},
   "outputs": [],
   "source": [
    "# by frequence encoder\n",
    "data.loc[data['Years in current job']=='10+ years','Years in current job']=10\n",
    "data.loc[data['Years in current job']=='2 years','Years in current job']=9\n",
    "data.loc[data['Years in current job']=='3 years','Years in current job']=8\n",
    "data.loc[data['Years in current job']=='< 1 year','Years in current job']=7\n",
    "data.loc[data['Years in current job']=='5 years','Years in current job']=6\n",
    "data.loc[data['Years in current job']=='1 year','Years in current job']=5\n",
    "data.loc[data['Years in current job']=='4 years','Years in current job']=4\n",
    "data.loc[data['Years in current job']=='6 years','Years in current job']=3\n",
    "data.loc[data['Years in current job']=='7 years','Years in current job']=2\n",
    "data.loc[data['Years in current job']=='8 years','Years in current job']=1\n",
    "data.loc[data['Years in current job']=='9 years','Years in current job']=0"
   ]
  },
  {
   "cell_type": "code",
   "execution_count": 63,
   "id": "5926dcf3-b568-45ae-a852-88de91812c58",
   "metadata": {},
   "outputs": [
    {
     "data": {
      "text/html": [
       "<div>\n",
       "<style scoped>\n",
       "    .dataframe tbody tr th:only-of-type {\n",
       "        vertical-align: middle;\n",
       "    }\n",
       "\n",
       "    .dataframe tbody tr th {\n",
       "        vertical-align: top;\n",
       "    }\n",
       "\n",
       "    .dataframe thead th {\n",
       "        text-align: right;\n",
       "    }\n",
       "</style>\n",
       "<table border=\"1\" class=\"dataframe\">\n",
       "  <thead>\n",
       "    <tr style=\"text-align: right;\">\n",
       "      <th></th>\n",
       "      <th>True_Home Mortgage</th>\n",
       "      <th>True_Own Home</th>\n",
       "      <th>True_Rent</th>\n",
       "    </tr>\n",
       "  </thead>\n",
       "  <tbody>\n",
       "    <tr>\n",
       "      <th>0</th>\n",
       "      <td>1</td>\n",
       "      <td>0</td>\n",
       "      <td>0</td>\n",
       "    </tr>\n",
       "    <tr>\n",
       "      <th>1</th>\n",
       "      <td>1</td>\n",
       "      <td>0</td>\n",
       "      <td>0</td>\n",
       "    </tr>\n",
       "    <tr>\n",
       "      <th>2</th>\n",
       "      <td>0</td>\n",
       "      <td>1</td>\n",
       "      <td>0</td>\n",
       "    </tr>\n",
       "    <tr>\n",
       "      <th>3</th>\n",
       "      <td>0</td>\n",
       "      <td>1</td>\n",
       "      <td>0</td>\n",
       "    </tr>\n",
       "    <tr>\n",
       "      <th>4</th>\n",
       "      <td>0</td>\n",
       "      <td>0</td>\n",
       "      <td>1</td>\n",
       "    </tr>\n",
       "    <tr>\n",
       "      <th>...</th>\n",
       "      <td>...</td>\n",
       "      <td>...</td>\n",
       "      <td>...</td>\n",
       "    </tr>\n",
       "    <tr>\n",
       "      <th>100509</th>\n",
       "      <td>1</td>\n",
       "      <td>0</td>\n",
       "      <td>0</td>\n",
       "    </tr>\n",
       "    <tr>\n",
       "      <th>100510</th>\n",
       "      <td>1</td>\n",
       "      <td>0</td>\n",
       "      <td>0</td>\n",
       "    </tr>\n",
       "    <tr>\n",
       "      <th>100511</th>\n",
       "      <td>1</td>\n",
       "      <td>0</td>\n",
       "      <td>0</td>\n",
       "    </tr>\n",
       "    <tr>\n",
       "      <th>100512</th>\n",
       "      <td>1</td>\n",
       "      <td>0</td>\n",
       "      <td>0</td>\n",
       "    </tr>\n",
       "    <tr>\n",
       "      <th>100513</th>\n",
       "      <td>1</td>\n",
       "      <td>0</td>\n",
       "      <td>0</td>\n",
       "    </tr>\n",
       "  </tbody>\n",
       "</table>\n",
       "<p>100514 rows × 3 columns</p>\n",
       "</div>"
      ],
      "text/plain": [
       "        True_Home Mortgage  True_Own Home  True_Rent\n",
       "0                        1              0          0\n",
       "1                        1              0          0\n",
       "2                        0              1          0\n",
       "3                        0              1          0\n",
       "4                        0              0          1\n",
       "...                    ...            ...        ...\n",
       "100509                   1              0          0\n",
       "100510                   1              0          0\n",
       "100511                   1              0          0\n",
       "100512                   1              0          0\n",
       "100513                   1              0          0\n",
       "\n",
       "[100514 rows x 3 columns]"
      ]
     },
     "execution_count": 63,
     "metadata": {},
     "output_type": "execute_result"
    }
   ],
   "source": [
    "# one hot method\n",
    "df=pd.get_dummies(data['Home Ownership'],dtype='int',drop_first=True,prefix=True)\n",
    "df"
   ]
  },
  {
   "cell_type": "code",
   "execution_count": 64,
   "id": "0244e1ab-ded3-46ef-bc7a-e33869e427f5",
   "metadata": {},
   "outputs": [],
   "source": [
    "data=pd.concat([data,df],axis=1).drop('Home Ownership',axis=1)"
   ]
  },
  {
   "cell_type": "code",
   "execution_count": 65,
   "id": "ee08b420-3718-44c6-83bb-7e8b6e39f6eb",
   "metadata": {},
   "outputs": [
    {
     "data": {
      "text/plain": [
       "Purpose\n",
       "Debt Consolidation      79066\n",
       "other                    6037\n",
       "Home Improvements        5839\n",
       "Other                    3250\n",
       "Business Loan            1569\n",
       "Buy a Car                1265\n",
       "Medical Bills            1127\n",
       "Buy House                 678\n",
       "Take a Trip               573\n",
       "major_purchase            352\n",
       "small_business            283\n",
       "moving                    150\n",
       "wedding                   115\n",
       "vacation                  101\n",
       "Educational Expenses       99\n",
       "renewable_energy           10\n",
       "Name: count, dtype: int64"
      ]
     },
     "execution_count": 65,
     "metadata": {},
     "output_type": "execute_result"
    }
   ],
   "source": [
    "data.Purpose.value_counts(sort=True)"
   ]
  },
  {
   "cell_type": "code",
   "execution_count": 66,
   "id": "05924ccb-34f8-414f-b4c1-e98045560d41",
   "metadata": {},
   "outputs": [],
   "source": [
    "data.loc[data['Purpose']=='Debt Consolidation','Purpose']=14\n",
    "data.loc[data['Purpose']=='Other','Purpose']=13\n",
    "data.loc[data['Purpose']=='other','Purpose']=13\n",
    "data.loc[data['Purpose']=='Home Improvements','Purpose']=12\n",
    "data.loc[data['Purpose']=='Buy a Car','Purpose']=10\n",
    "data.loc[data['Purpose']=='Medical Bills','Purpose']=9\n",
    "data.loc[data['Purpose']=='Buy House','Purpose']=8\n",
    "data.loc[data['Purpose']=='Take a Trip','Purpose']=7\n",
    "data.loc[data['Purpose']=='major_purchase','Purpose']=6\n",
    "data.loc[data['Purpose']=='small_business','Purpose']=5\n",
    "data.loc[data['Purpose']=='moving','Purpose']=4\n",
    "data.loc[data['Purpose']=='wedding','Purpose']=3\n",
    "data.loc[data['Purpose']=='vacation','Purpose']=2\n",
    "data.loc[data['Purpose']=='Educational Expenses','Purpose']=1\n",
    "data.loc[data['Purpose']=='renewable_energy','Purpose']=0\n",
    "data.loc[data['Purpose']=='Business Loan','Purpose']=11"
   ]
  },
  {
   "cell_type": "code",
   "execution_count": 67,
   "id": "ca78f314-7981-426c-b073-c75a21444194",
   "metadata": {},
   "outputs": [
    {
     "name": "stdout",
     "output_type": "stream",
     "text": [
      "<class 'pandas.core.frame.DataFrame'>\n",
      "RangeIndex: 100514 entries, 0 to 100513\n",
      "Data columns (total 19 columns):\n",
      " #   Column                        Non-Null Count   Dtype  \n",
      "---  ------                        --------------   -----  \n",
      " 0   Loan Status                   100514 non-null  int32  \n",
      " 1   Current Loan Amount           100514 non-null  float64\n",
      " 2   Term                          100514 non-null  int32  \n",
      " 3   Credit Score                  100514 non-null  float64\n",
      " 4   Annual Income                 100514 non-null  float64\n",
      " 5   Years in current job          100514 non-null  object \n",
      " 6   Purpose                       100514 non-null  object \n",
      " 7   Monthly Debt                  100514 non-null  float64\n",
      " 8   Years of Credit History       100514 non-null  float64\n",
      " 9   Months since last delinquent  100514 non-null  float64\n",
      " 10  Number of Open Accounts       100514 non-null  float64\n",
      " 11  Number of Credit Problems     100514 non-null  float64\n",
      " 12  Current Credit Balance        100514 non-null  float64\n",
      " 13  Maximum Open Credit           100514 non-null  float64\n",
      " 14  Bankruptcies                  100514 non-null  float64\n",
      " 15  Tax Liens                     100514 non-null  float64\n",
      " 16  True_Home Mortgage            100514 non-null  int32  \n",
      " 17  True_Own Home                 100514 non-null  int32  \n",
      " 18  True_Rent                     100514 non-null  int32  \n",
      "dtypes: float64(12), int32(5), object(2)\n",
      "memory usage: 12.7+ MB\n"
     ]
    }
   ],
   "source": [
    "# converting object into float or int by default\n",
    "data.info()"
   ]
  },
  {
   "cell_type": "code",
   "execution_count": 68,
   "id": "fc865f90-e9b6-462c-ba6f-225cd9bb37d4",
   "metadata": {},
   "outputs": [],
   "source": [
    "data['Years in current job']=data['Years in current job'].astype(dtype='int32')"
   ]
  },
  {
   "cell_type": "code",
   "execution_count": 69,
   "id": "8fb77313-faf9-4b72-a482-cd7e297be4c3",
   "metadata": {},
   "outputs": [],
   "source": [
    "data['Purpose']=data['Purpose'].astype(dtype='int32')"
   ]
  },
  {
   "cell_type": "code",
   "execution_count": 70,
   "id": "27a49b23-b993-4743-a90a-3dc3882aed27",
   "metadata": {},
   "outputs": [
    {
     "name": "stdout",
     "output_type": "stream",
     "text": [
      "<class 'pandas.core.frame.DataFrame'>\n",
      "RangeIndex: 100514 entries, 0 to 100513\n",
      "Data columns (total 19 columns):\n",
      " #   Column                        Non-Null Count   Dtype  \n",
      "---  ------                        --------------   -----  \n",
      " 0   Loan Status                   100514 non-null  int32  \n",
      " 1   Current Loan Amount           100514 non-null  float64\n",
      " 2   Term                          100514 non-null  int32  \n",
      " 3   Credit Score                  100514 non-null  float64\n",
      " 4   Annual Income                 100514 non-null  float64\n",
      " 5   Years in current job          100514 non-null  int32  \n",
      " 6   Purpose                       100514 non-null  int32  \n",
      " 7   Monthly Debt                  100514 non-null  float64\n",
      " 8   Years of Credit History       100514 non-null  float64\n",
      " 9   Months since last delinquent  100514 non-null  float64\n",
      " 10  Number of Open Accounts       100514 non-null  float64\n",
      " 11  Number of Credit Problems     100514 non-null  float64\n",
      " 12  Current Credit Balance        100514 non-null  float64\n",
      " 13  Maximum Open Credit           100514 non-null  float64\n",
      " 14  Bankruptcies                  100514 non-null  float64\n",
      " 15  Tax Liens                     100514 non-null  float64\n",
      " 16  True_Home Mortgage            100514 non-null  int32  \n",
      " 17  True_Own Home                 100514 non-null  int32  \n",
      " 18  True_Rent                     100514 non-null  int32  \n",
      "dtypes: float64(12), int32(7)\n",
      "memory usage: 11.9 MB\n"
     ]
    }
   ],
   "source": [
    "data.info()"
   ]
  },
  {
   "cell_type": "code",
   "execution_count": 71,
   "id": "75616e53-96fb-4042-8c86-ee8b70a764d3",
   "metadata": {},
   "outputs": [],
   "source": [
    "# heat map\n",
    "data1=data[['Current Loan Amount','Credit Score','Annual Income','Monthly Debt','Years of Credit History','Current Credit Balance','Maximum Open Credit']]"
   ]
  },
  {
   "cell_type": "code",
   "execution_count": null,
   "id": "0830aa2f-dd11-41cb-94b5-a65d0fe5c383",
   "metadata": {},
   "outputs": [],
   "source": [
    "data1.corr()"
   ]
  },
  {
   "cell_type": "code",
   "execution_count": 76,
   "id": "16a7d66a-cd22-4514-9da9-065fab3b90b9",
   "metadata": {},
   "outputs": [
    {
     "data": {
      "text/plain": [
       "<Axes: >"
      ]
     },
     "execution_count": 76,
     "metadata": {},
     "output_type": "execute_result"
    },
    {
     "data": {
      "image/png": "[encoded data removed]",
      "text/plain": [
       "<Figure size 2000x1500 with 2 Axes>"
      ]
     },
     "metadata": {},
     "output_type": "display_data"
    }
   ],
   "source": [
    "plt.figure(figsize=(20,15))\n",
    "sns.heatmap(data1.corr(),annot=True)"
   ]
  },
  {
   "cell_type": "code",
   "execution_count": 72,
   "id": "0dcfb648-10fc-4a68-81d9-c8e19abcc1e9",
   "metadata": {},
   "outputs": [],
   "source": [
    "# scaling\n",
    "from sklearn.preprocessing import MinMaxScaler\n",
    "sc=MinMaxScaler()\n",
    "data[['Current Loan Amount', 'Term', 'Credit Score',\n",
    "       'Annual Income', 'Years in current job', 'Purpose', 'Monthly Debt',\n",
    "       'Years of Credit History','Months since last delinquent', 'Number of Open Accounts',\n",
    "       'Number of Credit Problems', 'Current Credit Balance',\n",
    "       'Maximum Open Credit', 'Bankruptcies', 'Tax Liens',\n",
    "       'True_Home Mortgage', 'True_Own Home', 'True_Rent']]=sc.fit_transform(data[['Current Loan Amount', 'Term', 'Credit Score',\n",
    "       'Annual Income', 'Years in current job', 'Purpose', 'Monthly Debt',\n",
    "       'Years of Credit History','Months since last delinquent', 'Number of Open Accounts',\n",
    "       'Number of Credit Problems', 'Current Credit Balance',\n",
    "       'Maximum Open Credit', 'Bankruptcies', 'Tax Liens',\n",
    "       'True_Home Mortgage', 'True_Own Home', 'True_Rent']])"
   ]
  },
  {
   "cell_type": "code",
   "execution_count": 73,
   "id": "cf5986df-fdb1-4680-a420-74afae89bcf3",
   "metadata": {},
   "outputs": [
    {
     "data": {
      "text/html": [
       "<div>\n",
       "<style scoped>\n",
       "    .dataframe tbody tr th:only-of-type {\n",
       "        vertical-align: middle;\n",
       "    }\n",
       "\n",
       "    .dataframe tbody tr th {\n",
       "        vertical-align: top;\n",
       "    }\n",
       "\n",
       "    .dataframe thead th {\n",
       "        text-align: right;\n",
       "    }\n",
       "</style>\n",
       "<table border=\"1\" class=\"dataframe\">\n",
       "  <thead>\n",
       "    <tr style=\"text-align: right;\">\n",
       "      <th></th>\n",
       "      <th>Loan Status</th>\n",
       "      <th>Current Loan Amount</th>\n",
       "      <th>Term</th>\n",
       "      <th>Credit Score</th>\n",
       "      <th>Annual Income</th>\n",
       "      <th>Years in current job</th>\n",
       "      <th>Purpose</th>\n",
       "      <th>Monthly Debt</th>\n",
       "      <th>Years of Credit History</th>\n",
       "      <th>Months since last delinquent</th>\n",
       "      <th>Number of Open Accounts</th>\n",
       "      <th>Number of Credit Problems</th>\n",
       "      <th>Current Credit Balance</th>\n",
       "      <th>Maximum Open Credit</th>\n",
       "      <th>Bankruptcies</th>\n",
       "      <th>Tax Liens</th>\n",
       "      <th>True_Home Mortgage</th>\n",
       "      <th>True_Own Home</th>\n",
       "      <th>True_Rent</th>\n",
       "    </tr>\n",
       "  </thead>\n",
       "  <tbody>\n",
       "    <tr>\n",
       "      <th>0</th>\n",
       "      <td>1</td>\n",
       "      <td>0.004347</td>\n",
       "      <td>1.0</td>\n",
       "      <td>0.017906</td>\n",
       "      <td>0.006592</td>\n",
       "      <td>0.1</td>\n",
       "      <td>0.857143</td>\n",
       "      <td>0.117112</td>\n",
       "      <td>0.451827</td>\n",
       "      <td>0.181818</td>\n",
       "      <td>0.260870</td>\n",
       "      <td>0.066667</td>\n",
       "      <td>0.006940</td>\n",
       "      <td>0.000271</td>\n",
       "      <td>0.142857</td>\n",
       "      <td>0.0</td>\n",
       "      <td>1.0</td>\n",
       "      <td>0.0</td>\n",
       "      <td>0.0</td>\n",
       "    </tr>\n",
       "    <tr>\n",
       "      <th>1</th>\n",
       "      <td>1</td>\n",
       "      <td>0.002516</td>\n",
       "      <td>1.0</td>\n",
       "      <td>0.020072</td>\n",
       "      <td>0.006632</td>\n",
       "      <td>1.0</td>\n",
       "      <td>1.000000</td>\n",
       "      <td>0.747757</td>\n",
       "      <td>0.581395</td>\n",
       "      <td>0.045455</td>\n",
       "      <td>0.434783</td>\n",
       "      <td>0.000000</td>\n",
       "      <td>0.006995</td>\n",
       "      <td>0.000553</td>\n",
       "      <td>0.000000</td>\n",
       "      <td>0.0</td>\n",
       "      <td>1.0</td>\n",
       "      <td>0.0</td>\n",
       "      <td>0.0</td>\n",
       "    </tr>\n",
       "    <tr>\n",
       "      <th>2</th>\n",
       "      <td>1</td>\n",
       "      <td>1.000000</td>\n",
       "      <td>1.0</td>\n",
       "      <td>0.022527</td>\n",
       "      <td>0.013024</td>\n",
       "      <td>0.1</td>\n",
       "      <td>1.000000</td>\n",
       "      <td>0.655782</td>\n",
       "      <td>0.375415</td>\n",
       "      <td>0.164773</td>\n",
       "      <td>0.782609</td>\n",
       "      <td>0.066667</td>\n",
       "      <td>0.009063</td>\n",
       "      <td>0.000487</td>\n",
       "      <td>0.000000</td>\n",
       "      <td>0.0</td>\n",
       "      <td>0.0</td>\n",
       "      <td>1.0</td>\n",
       "      <td>0.0</td>\n",
       "    </tr>\n",
       "    <tr>\n",
       "      <th>3</th>\n",
       "      <td>1</td>\n",
       "      <td>0.003369</td>\n",
       "      <td>0.0</td>\n",
       "      <td>0.019639</td>\n",
       "      <td>0.004413</td>\n",
       "      <td>0.8</td>\n",
       "      <td>1.000000</td>\n",
       "      <td>0.196324</td>\n",
       "      <td>0.279070</td>\n",
       "      <td>0.181818</td>\n",
       "      <td>0.391304</td>\n",
       "      <td>0.000000</td>\n",
       "      <td>0.007796</td>\n",
       "      <td>0.000251</td>\n",
       "      <td>0.000000</td>\n",
       "      <td>0.0</td>\n",
       "      <td>0.0</td>\n",
       "      <td>1.0</td>\n",
       "      <td>0.0</td>\n",
       "    </tr>\n",
       "    <tr>\n",
       "      <th>4</th>\n",
       "      <td>1</td>\n",
       "      <td>0.001654</td>\n",
       "      <td>1.0</td>\n",
       "      <td>0.020072</td>\n",
       "      <td>0.006632</td>\n",
       "      <td>0.6</td>\n",
       "      <td>1.000000</td>\n",
       "      <td>0.463524</td>\n",
       "      <td>0.083056</td>\n",
       "      <td>0.181818</td>\n",
       "      <td>0.652174</td>\n",
       "      <td>0.000000</td>\n",
       "      <td>0.007709</td>\n",
       "      <td>0.000277</td>\n",
       "      <td>0.000000</td>\n",
       "      <td>0.0</td>\n",
       "      <td>0.0</td>\n",
       "      <td>0.0</td>\n",
       "      <td>1.0</td>\n",
       "    </tr>\n",
       "  </tbody>\n",
       "</table>\n",
       "</div>"
      ],
      "text/plain": [
       "   Loan Status  Current Loan Amount  Term  Credit Score  Annual Income  \\\n",
       "0            1             0.004347   1.0      0.017906       0.006592   \n",
       "1            1             0.002516   1.0      0.020072       0.006632   \n",
       "2            1             1.000000   1.0      0.022527       0.013024   \n",
       "3            1             0.003369   0.0      0.019639       0.004413   \n",
       "4            1             0.001654   1.0      0.020072       0.006632   \n",
       "\n",
       "   Years in current job   Purpose  Monthly Debt  Years of Credit History  \\\n",
       "0                   0.1  0.857143      0.117112                 0.451827   \n",
       "1                   1.0  1.000000      0.747757                 0.581395   \n",
       "2                   0.1  1.000000      0.655782                 0.375415   \n",
       "3                   0.8  1.000000      0.196324                 0.279070   \n",
       "4                   0.6  1.000000      0.463524                 0.083056   \n",
       "\n",
       "   Months since last delinquent  Number of Open Accounts  \\\n",
       "0                      0.181818                 0.260870   \n",
       "1                      0.045455                 0.434783   \n",
       "2                      0.164773                 0.782609   \n",
       "3                      0.181818                 0.391304   \n",
       "4                      0.181818                 0.652174   \n",
       "\n",
       "   Number of Credit Problems  Current Credit Balance  Maximum Open Credit  \\\n",
       "0                   0.066667                0.006940             0.000271   \n",
       "1                   0.000000                0.006995             0.000553   \n",
       "2                   0.066667                0.009063             0.000487   \n",
       "3                   0.000000                0.007796             0.000251   \n",
       "4                   0.000000                0.007709             0.000277   \n",
       "\n",
       "   Bankruptcies  Tax Liens  True_Home Mortgage  True_Own Home  True_Rent  \n",
       "0      0.142857        0.0                 1.0            0.0        0.0  \n",
       "1      0.000000        0.0                 1.0            0.0        0.0  \n",
       "2      0.000000        0.0                 0.0            1.0        0.0  \n",
       "3      0.000000        0.0                 0.0            1.0        0.0  \n",
       "4      0.000000        0.0                 0.0            0.0        1.0  "
      ]
     },
     "execution_count": 73,
     "metadata": {},
     "output_type": "execute_result"
    }
   ],
   "source": [
    "data.head()"
   ]
  },
  {
   "cell_type": "code",
   "execution_count": 74,
   "id": "66b42f47-fd18-485e-bcac-7c9a90cdc161",
   "metadata": {},
   "outputs": [],
   "source": [
    "# model creation"
   ]
  },
  {
   "cell_type": "code",
   "execution_count": 75,
   "id": "f44cfa8e-c43a-4f31-8360-987dc9a8d73c",
   "metadata": {},
   "outputs": [],
   "source": [
    "x=data.drop('Loan Status',axis=1)"
   ]
  },
  {
   "cell_type": "code",
   "execution_count": 76,
   "id": "e13dca51-823c-450d-acfe-0b89177497e2",
   "metadata": {},
   "outputs": [
    {
     "data": {
      "text/html": [
       "<div>\n",
       "<style scoped>\n",
       "    .dataframe tbody tr th:only-of-type {\n",
       "        vertical-align: middle;\n",
       "    }\n",
       "\n",
       "    .dataframe tbody tr th {\n",
       "        vertical-align: top;\n",
       "    }\n",
       "\n",
       "    .dataframe thead th {\n",
       "        text-align: right;\n",
       "    }\n",
       "</style>\n",
       "<table border=\"1\" class=\"dataframe\">\n",
       "  <thead>\n",
       "    <tr style=\"text-align: right;\">\n",
       "      <th></th>\n",
       "      <th>Current Loan Amount</th>\n",
       "      <th>Term</th>\n",
       "      <th>Credit Score</th>\n",
       "      <th>Annual Income</th>\n",
       "      <th>Years in current job</th>\n",
       "      <th>Purpose</th>\n",
       "      <th>Monthly Debt</th>\n",
       "      <th>Years of Credit History</th>\n",
       "      <th>Months since last delinquent</th>\n",
       "      <th>Number of Open Accounts</th>\n",
       "      <th>Number of Credit Problems</th>\n",
       "      <th>Current Credit Balance</th>\n",
       "      <th>Maximum Open Credit</th>\n",
       "      <th>Bankruptcies</th>\n",
       "      <th>Tax Liens</th>\n",
       "      <th>True_Home Mortgage</th>\n",
       "      <th>True_Own Home</th>\n",
       "      <th>True_Rent</th>\n",
       "    </tr>\n",
       "  </thead>\n",
       "  <tbody>\n",
       "    <tr>\n",
       "      <th>0</th>\n",
       "      <td>0.004347</td>\n",
       "      <td>1.0</td>\n",
       "      <td>0.017906</td>\n",
       "      <td>0.006592</td>\n",
       "      <td>0.1</td>\n",
       "      <td>0.857143</td>\n",
       "      <td>0.117112</td>\n",
       "      <td>0.451827</td>\n",
       "      <td>0.181818</td>\n",
       "      <td>0.260870</td>\n",
       "      <td>0.066667</td>\n",
       "      <td>0.006940</td>\n",
       "      <td>0.000271</td>\n",
       "      <td>0.142857</td>\n",
       "      <td>0.0</td>\n",
       "      <td>1.0</td>\n",
       "      <td>0.0</td>\n",
       "      <td>0.0</td>\n",
       "    </tr>\n",
       "    <tr>\n",
       "      <th>1</th>\n",
       "      <td>0.002516</td>\n",
       "      <td>1.0</td>\n",
       "      <td>0.020072</td>\n",
       "      <td>0.006632</td>\n",
       "      <td>1.0</td>\n",
       "      <td>1.000000</td>\n",
       "      <td>0.747757</td>\n",
       "      <td>0.581395</td>\n",
       "      <td>0.045455</td>\n",
       "      <td>0.434783</td>\n",
       "      <td>0.000000</td>\n",
       "      <td>0.006995</td>\n",
       "      <td>0.000553</td>\n",
       "      <td>0.000000</td>\n",
       "      <td>0.0</td>\n",
       "      <td>1.0</td>\n",
       "      <td>0.0</td>\n",
       "      <td>0.0</td>\n",
       "    </tr>\n",
       "    <tr>\n",
       "      <th>2</th>\n",
       "      <td>1.000000</td>\n",
       "      <td>1.0</td>\n",
       "      <td>0.022527</td>\n",
       "      <td>0.013024</td>\n",
       "      <td>0.1</td>\n",
       "      <td>1.000000</td>\n",
       "      <td>0.655782</td>\n",
       "      <td>0.375415</td>\n",
       "      <td>0.164773</td>\n",
       "      <td>0.782609</td>\n",
       "      <td>0.066667</td>\n",
       "      <td>0.009063</td>\n",
       "      <td>0.000487</td>\n",
       "      <td>0.000000</td>\n",
       "      <td>0.0</td>\n",
       "      <td>0.0</td>\n",
       "      <td>1.0</td>\n",
       "      <td>0.0</td>\n",
       "    </tr>\n",
       "    <tr>\n",
       "      <th>3</th>\n",
       "      <td>0.003369</td>\n",
       "      <td>0.0</td>\n",
       "      <td>0.019639</td>\n",
       "      <td>0.004413</td>\n",
       "      <td>0.8</td>\n",
       "      <td>1.000000</td>\n",
       "      <td>0.196324</td>\n",
       "      <td>0.279070</td>\n",
       "      <td>0.181818</td>\n",
       "      <td>0.391304</td>\n",
       "      <td>0.000000</td>\n",
       "      <td>0.007796</td>\n",
       "      <td>0.000251</td>\n",
       "      <td>0.000000</td>\n",
       "      <td>0.0</td>\n",
       "      <td>0.0</td>\n",
       "      <td>1.0</td>\n",
       "      <td>0.0</td>\n",
       "    </tr>\n",
       "    <tr>\n",
       "      <th>4</th>\n",
       "      <td>0.001654</td>\n",
       "      <td>1.0</td>\n",
       "      <td>0.020072</td>\n",
       "      <td>0.006632</td>\n",
       "      <td>0.6</td>\n",
       "      <td>1.000000</td>\n",
       "      <td>0.463524</td>\n",
       "      <td>0.083056</td>\n",
       "      <td>0.181818</td>\n",
       "      <td>0.652174</td>\n",
       "      <td>0.000000</td>\n",
       "      <td>0.007709</td>\n",
       "      <td>0.000277</td>\n",
       "      <td>0.000000</td>\n",
       "      <td>0.0</td>\n",
       "      <td>0.0</td>\n",
       "      <td>0.0</td>\n",
       "      <td>1.0</td>\n",
       "    </tr>\n",
       "    <tr>\n",
       "      <th>...</th>\n",
       "      <td>...</td>\n",
       "      <td>...</td>\n",
       "      <td>...</td>\n",
       "      <td>...</td>\n",
       "      <td>...</td>\n",
       "      <td>...</td>\n",
       "      <td>...</td>\n",
       "      <td>...</td>\n",
       "      <td>...</td>\n",
       "      <td>...</td>\n",
       "      <td>...</td>\n",
       "      <td>...</td>\n",
       "      <td>...</td>\n",
       "      <td>...</td>\n",
       "      <td>...</td>\n",
       "      <td>...</td>\n",
       "      <td>...</td>\n",
       "      <td>...</td>\n",
       "    </tr>\n",
       "    <tr>\n",
       "      <th>100509</th>\n",
       "      <td>0.003015</td>\n",
       "      <td>1.0</td>\n",
       "      <td>0.020072</td>\n",
       "      <td>0.006632</td>\n",
       "      <td>1.0</td>\n",
       "      <td>1.000000</td>\n",
       "      <td>0.364273</td>\n",
       "      <td>0.441860</td>\n",
       "      <td>0.181818</td>\n",
       "      <td>0.434783</td>\n",
       "      <td>0.000000</td>\n",
       "      <td>0.006381</td>\n",
       "      <td>0.000304</td>\n",
       "      <td>0.000000</td>\n",
       "      <td>0.0</td>\n",
       "      <td>1.0</td>\n",
       "      <td>0.0</td>\n",
       "      <td>0.0</td>\n",
       "    </tr>\n",
       "    <tr>\n",
       "      <th>100510</th>\n",
       "      <td>0.003015</td>\n",
       "      <td>1.0</td>\n",
       "      <td>0.020072</td>\n",
       "      <td>0.006632</td>\n",
       "      <td>1.0</td>\n",
       "      <td>1.000000</td>\n",
       "      <td>0.364273</td>\n",
       "      <td>0.441860</td>\n",
       "      <td>0.181818</td>\n",
       "      <td>0.434783</td>\n",
       "      <td>0.000000</td>\n",
       "      <td>0.006381</td>\n",
       "      <td>0.000304</td>\n",
       "      <td>0.000000</td>\n",
       "      <td>0.0</td>\n",
       "      <td>1.0</td>\n",
       "      <td>0.0</td>\n",
       "      <td>0.0</td>\n",
       "    </tr>\n",
       "    <tr>\n",
       "      <th>100511</th>\n",
       "      <td>0.003015</td>\n",
       "      <td>1.0</td>\n",
       "      <td>0.020072</td>\n",
       "      <td>0.006632</td>\n",
       "      <td>1.0</td>\n",
       "      <td>1.000000</td>\n",
       "      <td>0.364273</td>\n",
       "      <td>0.441860</td>\n",
       "      <td>0.181818</td>\n",
       "      <td>0.434783</td>\n",
       "      <td>0.000000</td>\n",
       "      <td>0.006381</td>\n",
       "      <td>0.000304</td>\n",
       "      <td>0.000000</td>\n",
       "      <td>0.0</td>\n",
       "      <td>1.0</td>\n",
       "      <td>0.0</td>\n",
       "      <td>0.0</td>\n",
       "    </tr>\n",
       "    <tr>\n",
       "      <th>100512</th>\n",
       "      <td>0.003015</td>\n",
       "      <td>1.0</td>\n",
       "      <td>0.020072</td>\n",
       "      <td>0.006632</td>\n",
       "      <td>1.0</td>\n",
       "      <td>1.000000</td>\n",
       "      <td>0.364273</td>\n",
       "      <td>0.441860</td>\n",
       "      <td>0.181818</td>\n",
       "      <td>0.434783</td>\n",
       "      <td>0.000000</td>\n",
       "      <td>0.006381</td>\n",
       "      <td>0.000304</td>\n",
       "      <td>0.000000</td>\n",
       "      <td>0.0</td>\n",
       "      <td>1.0</td>\n",
       "      <td>0.0</td>\n",
       "      <td>0.0</td>\n",
       "    </tr>\n",
       "    <tr>\n",
       "      <th>100513</th>\n",
       "      <td>0.003015</td>\n",
       "      <td>1.0</td>\n",
       "      <td>0.020072</td>\n",
       "      <td>0.006632</td>\n",
       "      <td>1.0</td>\n",
       "      <td>1.000000</td>\n",
       "      <td>0.364273</td>\n",
       "      <td>0.441860</td>\n",
       "      <td>0.181818</td>\n",
       "      <td>0.434783</td>\n",
       "      <td>0.000000</td>\n",
       "      <td>0.006381</td>\n",
       "      <td>0.000304</td>\n",
       "      <td>0.000000</td>\n",
       "      <td>0.0</td>\n",
       "      <td>1.0</td>\n",
       "      <td>0.0</td>\n",
       "      <td>0.0</td>\n",
       "    </tr>\n",
       "  </tbody>\n",
       "</table>\n",
       "<p>100514 rows × 18 columns</p>\n",
       "</div>"
      ],
      "text/plain": [
       "        Current Loan Amount  Term  Credit Score  Annual Income  \\\n",
       "0                  0.004347   1.0      0.017906       0.006592   \n",
       "1                  0.002516   1.0      0.020072       0.006632   \n",
       "2                  1.000000   1.0      0.022527       0.013024   \n",
       "3                  0.003369   0.0      0.019639       0.004413   \n",
       "4                  0.001654   1.0      0.020072       0.006632   \n",
       "...                     ...   ...           ...            ...   \n",
       "100509             0.003015   1.0      0.020072       0.006632   \n",
       "100510             0.003015   1.0      0.020072       0.006632   \n",
       "100511             0.003015   1.0      0.020072       0.006632   \n",
       "100512             0.003015   1.0      0.020072       0.006632   \n",
       "100513             0.003015   1.0      0.020072       0.006632   \n",
       "\n",
       "        Years in current job   Purpose  Monthly Debt  Years of Credit History  \\\n",
       "0                        0.1  0.857143      0.117112                 0.451827   \n",
       "1                        1.0  1.000000      0.747757                 0.581395   \n",
       "2                        0.1  1.000000      0.655782                 0.375415   \n",
       "3                        0.8  1.000000      0.196324                 0.279070   \n",
       "4                        0.6  1.000000      0.463524                 0.083056   \n",
       "...                      ...       ...           ...                      ...   \n",
       "100509                   1.0  1.000000      0.364273                 0.441860   \n",
       "100510                   1.0  1.000000      0.364273                 0.441860   \n",
       "100511                   1.0  1.000000      0.364273                 0.441860   \n",
       "100512                   1.0  1.000000      0.364273                 0.441860   \n",
       "100513                   1.0  1.000000      0.364273                 0.441860   \n",
       "\n",
       "        Months since last delinquent  Number of Open Accounts  \\\n",
       "0                           0.181818                 0.260870   \n",
       "1                           0.045455                 0.434783   \n",
       "2                           0.164773                 0.782609   \n",
       "3                           0.181818                 0.391304   \n",
       "4                           0.181818                 0.652174   \n",
       "...                              ...                      ...   \n",
       "100509                      0.181818                 0.434783   \n",
       "100510                      0.181818                 0.434783   \n",
       "100511                      0.181818                 0.434783   \n",
       "100512                      0.181818                 0.434783   \n",
       "100513                      0.181818                 0.434783   \n",
       "\n",
       "        Number of Credit Problems  Current Credit Balance  \\\n",
       "0                        0.066667                0.006940   \n",
       "1                        0.000000                0.006995   \n",
       "2                        0.066667                0.009063   \n",
       "3                        0.000000                0.007796   \n",
       "4                        0.000000                0.007709   \n",
       "...                           ...                     ...   \n",
       "100509                   0.000000                0.006381   \n",
       "100510                   0.000000                0.006381   \n",
       "100511                   0.000000                0.006381   \n",
       "100512                   0.000000                0.006381   \n",
       "100513                   0.000000                0.006381   \n",
       "\n",
       "        Maximum Open Credit  Bankruptcies  Tax Liens  True_Home Mortgage  \\\n",
       "0                  0.000271      0.142857        0.0                 1.0   \n",
       "1                  0.000553      0.000000        0.0                 1.0   \n",
       "2                  0.000487      0.000000        0.0                 0.0   \n",
       "3                  0.000251      0.000000        0.0                 0.0   \n",
       "4                  0.000277      0.000000        0.0                 0.0   \n",
       "...                     ...           ...        ...                 ...   \n",
       "100509             0.000304      0.000000        0.0                 1.0   \n",
       "100510             0.000304      0.000000        0.0                 1.0   \n",
       "100511             0.000304      0.000000        0.0                 1.0   \n",
       "100512             0.000304      0.000000        0.0                 1.0   \n",
       "100513             0.000304      0.000000        0.0                 1.0   \n",
       "\n",
       "        True_Own Home  True_Rent  \n",
       "0                 0.0        0.0  \n",
       "1                 0.0        0.0  \n",
       "2                 1.0        0.0  \n",
       "3                 1.0        0.0  \n",
       "4                 0.0        1.0  \n",
       "...               ...        ...  \n",
       "100509            0.0        0.0  \n",
       "100510            0.0        0.0  \n",
       "100511            0.0        0.0  \n",
       "100512            0.0        0.0  \n",
       "100513            0.0        0.0  \n",
       "\n",
       "[100514 rows x 18 columns]"
      ]
     },
     "execution_count": 76,
     "metadata": {},
     "output_type": "execute_result"
    }
   ],
   "source": [
    "x"
   ]
  },
  {
   "cell_type": "code",
   "execution_count": 77,
   "id": "2c2204c0-6775-4d98-b5b2-2328bba766fe",
   "metadata": {},
   "outputs": [],
   "source": [
    "y=data['Loan Status']"
   ]
  },
  {
   "cell_type": "code",
   "execution_count": 78,
   "id": "6ceadd33-ce8a-4248-8e95-c0ebe1fe3d38",
   "metadata": {},
   "outputs": [
    {
     "data": {
      "text/plain": [
       "0         1\n",
       "1         1\n",
       "2         1\n",
       "3         1\n",
       "4         1\n",
       "         ..\n",
       "100509    1\n",
       "100510    1\n",
       "100511    1\n",
       "100512    1\n",
       "100513    1\n",
       "Name: Loan Status, Length: 100514, dtype: int32"
      ]
     },
     "execution_count": 78,
     "metadata": {},
     "output_type": "execute_result"
    }
   ],
   "source": [
    "y"
   ]
  },
  {
   "cell_type": "code",
   "execution_count": 79,
   "id": "97d772a5-6559-419e-a5c0-d4e876ddc683",
   "metadata": {},
   "outputs": [],
   "source": [
    "from sklearn.model_selection import train_test_split"
   ]
  },
  {
   "cell_type": "code",
   "execution_count": 80,
   "id": "e5c2ae55-242c-4c93-aca5-b3c133bbd50e",
   "metadata": {},
   "outputs": [],
   "source": [
    "x_train,x_test,y_train,y_test=train_test_split(x,y,test_size=0.20,random_state=45)"
   ]
  },
  {
   "cell_type": "code",
   "execution_count": 81,
   "id": "9d7b8dd3-beb8-4da0-bcfb-5794dbe37f13",
   "metadata": {},
   "outputs": [
    {
     "data": {
      "text/plain": [
       "(80411, 18)"
      ]
     },
     "execution_count": 81,
     "metadata": {},
     "output_type": "execute_result"
    }
   ],
   "source": [
    "x_train.shape"
   ]
  },
  {
   "cell_type": "code",
   "execution_count": 82,
   "id": "32a57a61-8773-4745-89e5-5892c5b17657",
   "metadata": {},
   "outputs": [
    {
     "data": {
      "text/plain": [
       "(20103,)"
      ]
     },
     "execution_count": 82,
     "metadata": {},
     "output_type": "execute_result"
    }
   ],
   "source": [
    "y_test.shape"
   ]
  },
  {
   "cell_type": "code",
   "execution_count": 83,
   "id": "5115c73a-1a97-4812-acdc-4cd85386f351",
   "metadata": {},
   "outputs": [
    {
     "data": {
      "text/plain": [
       "Loan Status\n",
       "1    62296\n",
       "0    18115\n",
       "Name: count, dtype: int64"
      ]
     },
     "execution_count": 83,
     "metadata": {},
     "output_type": "execute_result"
    }
   ],
   "source": [
    "y_train.value_counts()"
   ]
  },
  {
   "cell_type": "code",
   "execution_count": 84,
   "id": "8748b1c5-32b4-4d0a-b22d-fdda88b94303",
   "metadata": {},
   "outputs": [],
   "source": [
    "# we need of smoting \n",
    "from imblearn.over_sampling import SMOTE\n",
    "sm=SMOTE()"
   ]
  },
  {
   "cell_type": "code",
   "execution_count": 85,
   "id": "bc1e3a1b-e46e-4765-a0c6-f74a78d9b338",
   "metadata": {},
   "outputs": [],
   "source": [
    "x_smoted,y_smoted=sm.fit_resample(x_train,y_train)"
   ]
  },
  {
   "cell_type": "code",
   "execution_count": 86,
   "id": "535b22f6-a578-4081-989f-e6b0f36e7f96",
   "metadata": {},
   "outputs": [
    {
     "data": {
      "text/plain": [
       "Loan Status\n",
       "1    62296\n",
       "0    62296\n",
       "Name: count, dtype: int64"
      ]
     },
     "execution_count": 86,
     "metadata": {},
     "output_type": "execute_result"
    }
   ],
   "source": [
    "y_smoted.value_counts() # its done"
   ]
  },
  {
   "cell_type": "code",
   "execution_count": null,
   "id": "3a0b642f-1da0-4647-bca2-74636c232e8d",
   "metadata": {},
   "outputs": [],
   "source": [
    "# using decision tree classifier"
   ]
  },
  {
   "cell_type": "code",
   "execution_count": 92,
   "id": "3b275ac4-dda4-4580-a930-a2812132dccb",
   "metadata": {},
   "outputs": [
    {
     "data": {
      "text/plain": [
       "array([1, 1, 1, ..., 0, 1, 0])"
      ]
     },
     "execution_count": 92,
     "metadata": {},
     "output_type": "execute_result"
    }
   ],
   "source": [
    "# prediction\n",
    "from sklearn.tree import DecisionTreeClassifier\n",
    "dt=DecisionTreeClassifier()\n",
    "dt.fit(x_smoted,y_smoted)\n",
    "y_predict=dt.predict(x_test)\n",
    "y_predict"
   ]
  },
  {
   "cell_type": "code",
   "execution_count": 93,
   "id": "88079011-86b0-4e27-9a5c-3856e02641b4",
   "metadata": {},
   "outputs": [],
   "source": [
    "# evalution\n",
    "from sklearn.metrics import accuracy_score,classification_report,f1_score"
   ]
  },
  {
   "cell_type": "code",
   "execution_count": 94,
   "id": "db5fd505-af10-4671-ae9b-1e627836dc8a",
   "metadata": {},
   "outputs": [
    {
     "data": {
      "text/plain": [
       "0.7528229617470029"
      ]
     },
     "execution_count": 94,
     "metadata": {},
     "output_type": "execute_result"
    }
   ],
   "source": [
    "accuracy_score(y_test,y_predict)"
   ]
  },
  {
   "cell_type": "code",
   "execution_count": 95,
   "id": "679e4907-4b0b-48bc-b6ad-50018244c20b",
   "metadata": {},
   "outputs": [
    {
     "data": {
      "text/plain": [
       "0.839714847908132"
      ]
     },
     "execution_count": 95,
     "metadata": {},
     "output_type": "execute_result"
    }
   ],
   "source": [
    "f1_score(y_test,y_predict)"
   ]
  },
  {
   "cell_type": "code",
   "execution_count": 96,
   "id": "6aac022c-f7a7-4dd5-a7bb-01dd741878fa",
   "metadata": {},
   "outputs": [
    {
     "name": "stdout",
     "output_type": "stream",
     "text": [
      "              precision    recall  f1-score   support\n",
      "\n",
      "           0       0.45      0.47      0.46      4524\n",
      "           1       0.84      0.84      0.84     15579\n",
      "\n",
      "    accuracy                           0.75     20103\n",
      "   macro avg       0.65      0.65      0.65     20103\n",
      "weighted avg       0.76      0.75      0.75     20103\n",
      "\n"
     ]
    }
   ],
   "source": [
    "print(classification_report(y_test,y_predict))"
   ]
  },
  {
   "cell_type": "code",
   "execution_count": null,
   "id": "dd8fc0c4-121e-4b43-8c2c-da0862e66f2e",
   "metadata": {},
   "outputs": [],
   "source": [
    "# using random forest"
   ]
  },
  {
   "cell_type": "code",
   "execution_count": 102,
   "id": "bfc2aa81-d6b3-47b3-86ad-8596d6cf80e7",
   "metadata": {},
   "outputs": [
    {
     "data": {
      "text/plain": [
       "array([0, 1, 1, ..., 0, 1, 1])"
      ]
     },
     "execution_count": 102,
     "metadata": {},
     "output_type": "execute_result"
    }
   ],
   "source": [
    "from sklearn.ensemble import RandomForestClassifier\n",
    "rfc=RandomForestClassifier()\n",
    "rfc.fit(x_smoted,y_smoted)\n",
    "y1_predict=rfc.predict(x_test)\n",
    "y1_predict"
   ]
  },
  {
   "cell_type": "code",
   "execution_count": 103,
   "id": "1744703d-080e-44ca-85df-1a314d03e5ef",
   "metadata": {},
   "outputs": [
    {
     "name": "stdout",
     "output_type": "stream",
     "text": [
      "0.7907774958961349\n"
     ]
    }
   ],
   "source": [
    "print(accuracy_score(y_test,y1_predict))"
   ]
  },
  {
   "cell_type": "code",
   "execution_count": 104,
   "id": "54802749-6fbf-480d-9942-93da489d4958",
   "metadata": {},
   "outputs": [
    {
     "name": "stdout",
     "output_type": "stream",
     "text": [
      "              precision    recall  f1-score   support\n",
      "\n",
      "           0       0.55      0.41      0.47      4524\n",
      "           1       0.84      0.90      0.87     15579\n",
      "\n",
      "    accuracy                           0.79     20103\n",
      "   macro avg       0.69      0.65      0.67     20103\n",
      "weighted avg       0.77      0.79      0.78     20103\n",
      "\n"
     ]
    }
   ],
   "source": [
    "print(classification_report(y_test,y1_predict))"
   ]
  },
  {
   "cell_type": "code",
   "execution_count": null,
   "id": "65eab4c8-180b-4755-8671-b2c4d27e5dfa",
   "metadata": {},
   "outputs": [],
   "source": [
    "# using bagging "
   ]
  },
  {
   "cell_type": "code",
   "execution_count": 108,
   "id": "1026e4f8-25a1-460c-9e08-efbf3551a3cb",
   "metadata": {},
   "outputs": [
    {
     "name": "stdout",
     "output_type": "stream",
     "text": [
      "0.7677958513654678\n"
     ]
    }
   ],
   "source": [
    "from sklearn.ensemble import BaggingClassifier\n",
    "bg=BaggingClassifier()\n",
    "bg.fit(x_smoted,y_smoted)\n",
    "y2_predict=bg.predict(x_test)\n",
    "print(accuracy_score(y2_predict,y_test))"
   ]
  },
  {
   "cell_type": "code",
   "execution_count": 109,
   "id": "66db687b-4caa-421a-b489-366e6c53f033",
   "metadata": {},
   "outputs": [
    {
     "name": "stdout",
     "output_type": "stream",
     "text": [
      "              precision    recall  f1-score   support\n",
      "\n",
      "           0       0.48      0.48      0.48      4524\n",
      "           1       0.85      0.85      0.85     15579\n",
      "\n",
      "    accuracy                           0.77     20103\n",
      "   macro avg       0.67      0.66      0.67     20103\n",
      "weighted avg       0.77      0.77      0.77     20103\n",
      "\n"
     ]
    }
   ],
   "source": [
    "print(classification_report(y_test,y2_predict))"
   ]
  },
  {
   "cell_type": "code",
   "execution_count": null,
   "id": "589c55ea-d1de-43b3-952f-88ad4d794baa",
   "metadata": {},
   "outputs": [],
   "source": [
    "# using xg booost"
   ]
  },
  {
   "cell_type": "code",
   "execution_count": 111,
   "id": "03700416-5082-4d58-99f4-cd441f033c66",
   "metadata": {},
   "outputs": [
    {
     "data": {
      "text/plain": [
       "0.8174899268765856"
      ]
     },
     "execution_count": 111,
     "metadata": {},
     "output_type": "execute_result"
    }
   ],
   "source": [
    "from xgboost import XGBClassifier\n",
    "xgb=XGBClassifier()\n",
    "xgb.fit(x_train,y_train) # dose not need of smoting\n",
    "y3_predict=xgb.predict(x_test)\n",
    "accuracy_score(y3_predict,y_test)"
   ]
  },
  {
   "cell_type": "code",
   "execution_count": null,
   "id": "20fd45e2-515c-4701-94b6-5a8e2ab49bec",
   "metadata": {},
   "outputs": [],
   "source": [
    "# using logistic regression"
   ]
  },
  {
   "cell_type": "code",
   "execution_count": 115,
   "id": "06bad493-7063-4cdc-9fc1-f5ab4dc80e2c",
   "metadata": {},
   "outputs": [
    {
     "name": "stderr",
     "output_type": "stream",
     "text": [
      "C:\\Users\\Admin\\anaconda3\\Lib\\site-packages\\sklearn\\linear_model\\_logistic.py:458: ConvergenceWarning: lbfgs failed to converge (status=1):\n",
      "STOP: TOTAL NO. of ITERATIONS REACHED LIMIT.\n",
      "\n",
      "Increase the number of iterations (max_iter) or scale the data as shown in:\n",
      "    https://scikit-learn.org/stable/modules/preprocessing.html\n",
      "Please also refer to the documentation for alternative solver options:\n",
      "    https://scikit-learn.org/stable/modules/linear_model.html#logistic-regression\n",
      "  n_iter_i = _check_optimize_result(\n"
     ]
    },
    {
     "data": {
      "text/plain": [
       "0.8959369698363862"
      ]
     },
     "execution_count": 115,
     "metadata": {},
     "output_type": "execute_result"
    }
   ],
   "source": [
    "from sklearn.linear_model import LogisticRegression\n",
    "lr=LogisticRegression()\n",
    "lr.fit(x_train,y_train)\n",
    "y4_predict=lr.predict(x_test)\n",
    "f1_score(y_test,y4_predict)"
   ]
  },
  {
   "cell_type": "code",
   "execution_count": null,
   "id": "a64f0f51-9a7c-4217-90a4-a2b73d781065",
   "metadata": {},
   "outputs": [],
   "source": [
    "# using support vector machine"
   ]
  },
  {
   "cell_type": "code",
   "execution_count": 88,
   "id": "25943992-4bc0-47f8-b37d-3b4ffa6f3df6",
   "metadata": {},
   "outputs": [
    {
     "data": {
      "text/html": [
       "<style>#sk-container-id-1 {color: black;background-color: white;}#sk-container-id-1 pre{padding: 0;}#sk-container-id-1 div.sk-toggleable {background-color: white;}#sk-container-id-1 label.sk-toggleable__label {cursor: pointer;display: block;width: 100%;margin-bottom: 0;padding: 0.3em;box-sizing: border-box;text-align: center;}#sk-container-id-1 label.sk-toggleable__label-arrow:before {content: \"▸\";float: left;margin-right: 0.25em;color: #696969;}#sk-container-id-1 label.sk-toggleable__label-arrow:hover:before {color: black;}#sk-container-id-1 div.sk-estimator:hover label.sk-toggleable__label-arrow:before {color: black;}#sk-container-id-1 div.sk-toggleable__content {max-height: 0;max-width: 0;overflow: hidden;text-align: left;background-color: #f0f8ff;}#sk-container-id-1 div.sk-toggleable__content pre {margin: 0.2em;color: black;border-radius: 0.25em;background-color: #f0f8ff;}#sk-container-id-1 input.sk-toggleable__control:checked~div.sk-toggleable__content {max-height: 200px;max-width: 100%;overflow: auto;}#sk-container-id-1 input.sk-toggleable__control:checked~label.sk-toggleable__label-arrow:before {content: \"▾\";}#sk-container-id-1 div.sk-estimator input.sk-toggleable__control:checked~label.sk-toggleable__label {background-color: #d4ebff;}#sk-container-id-1 div.sk-label input.sk-toggleable__control:checked~label.sk-toggleable__label {background-color: #d4ebff;}#sk-container-id-1 input.sk-hidden--visually {border: 0;clip: rect(1px 1px 1px 1px);clip: rect(1px, 1px, 1px, 1px);height: 1px;margin: -1px;overflow: hidden;padding: 0;position: absolute;width: 1px;}#sk-container-id-1 div.sk-estimator {font-family: monospace;background-color: #f0f8ff;border: 1px dotted black;border-radius: 0.25em;box-sizing: border-box;margin-bottom: 0.5em;}#sk-container-id-1 div.sk-estimator:hover {background-color: #d4ebff;}#sk-container-id-1 div.sk-parallel-item::after {content: \"\";width: 100%;border-bottom: 1px solid gray;flex-grow: 1;}#sk-container-id-1 div.sk-label:hover label.sk-toggleable__label {background-color: #d4ebff;}#sk-container-id-1 div.sk-serial::before {content: \"\";position: absolute;border-left: 1px solid gray;box-sizing: border-box;top: 0;bottom: 0;left: 50%;z-index: 0;}#sk-container-id-1 div.sk-serial {display: flex;flex-direction: column;align-items: center;background-color: white;padding-right: 0.2em;padding-left: 0.2em;position: relative;}#sk-container-id-1 div.sk-item {position: relative;z-index: 1;}#sk-container-id-1 div.sk-parallel {display: flex;align-items: stretch;justify-content: center;background-color: white;position: relative;}#sk-container-id-1 div.sk-item::before, #sk-container-id-1 div.sk-parallel-item::before {content: \"\";position: absolute;border-left: 1px solid gray;box-sizing: border-box;top: 0;bottom: 0;left: 50%;z-index: -1;}#sk-container-id-1 div.sk-parallel-item {display: flex;flex-direction: column;z-index: 1;position: relative;background-color: white;}#sk-container-id-1 div.sk-parallel-item:first-child::after {align-self: flex-end;width: 50%;}#sk-container-id-1 div.sk-parallel-item:last-child::after {align-self: flex-start;width: 50%;}#sk-container-id-1 div.sk-parallel-item:only-child::after {width: 0;}#sk-container-id-1 div.sk-dashed-wrapped {border: 1px dashed gray;margin: 0 0.4em 0.5em 0.4em;box-sizing: border-box;padding-bottom: 0.4em;background-color: white;}#sk-container-id-1 div.sk-label label {font-family: monospace;font-weight: bold;display: inline-block;line-height: 1.2em;}#sk-container-id-1 div.sk-label-container {text-align: center;}#sk-container-id-1 div.sk-container {/* jupyter's `normalize.less` sets `[hidden] { display: none; }` but bootstrap.min.css set `[hidden] { display: none !important; }` so we also need the `!important` here to be able to override the default hidden behavior on the sphinx rendered scikit-learn.org. See: https://github.com/scikit-learn/scikit-learn/issues/21755 */display: inline-block !important;position: relative;}#sk-container-id-1 div.sk-text-repr-fallback {display: none;}</style><div id=\"sk-container-id-1\" class=\"sk-top-container\"><div class=\"sk-text-repr-fallback\"><pre>SVC()</pre><b>In a Jupyter environment, please rerun this cell to show the HTML representation or trust the notebook. <br />On GitHub, the HTML representation is unable to render, please try loading this page with nbviewer.org.</b></div><div class=\"sk-container\" hidden><div class=\"sk-item\"><div class=\"sk-estimator sk-toggleable\"><input class=\"sk-toggleable__control sk-hidden--visually\" id=\"sk-estimator-id-1\" type=\"checkbox\" checked><label for=\"sk-estimator-id-1\" class=\"sk-toggleable__label sk-toggleable__label-arrow\">SVC</label><div class=\"sk-toggleable__content\"><pre>SVC()</pre></div></div></div></div></div>"
      ],
      "text/plain": [
       "SVC()"
      ]
     },
     "execution_count": 88,
     "metadata": {},
     "output_type": "execute_result"
    }
   ],
   "source": [
    "from sklearn.svm import SVC\n",
    "svm=SVC()\n",
    "svm.fit(x_smoted,y_smoted)"
   ]
  },
  {
   "cell_type": "code",
   "execution_count": 97,
   "id": "9dac13b3-9459-4a99-a024-94dc48c0bcd9",
   "metadata": {},
   "outputs": [],
   "source": [
    "from sklearn.metrics import f1_score,accuracy_score,classification_report"
   ]
  },
  {
   "cell_type": "code",
   "execution_count": 95,
   "id": "0a855c32-4eac-4fd3-b3c3-7c9b13f5b442",
   "metadata": {},
   "outputs": [
    {
     "data": {
      "text/plain": [
       "0.8093175153292455"
      ]
     },
     "execution_count": 95,
     "metadata": {},
     "output_type": "execute_result"
    }
   ],
   "source": [
    "y5_predict=svm.predict(x_test)\n",
    "f1_score(y_test,y5_predict)"
   ]
  },
  {
   "cell_type": "code",
   "execution_count": 98,
   "id": "895980ba-0766-4474-a670-7a1560dd1842",
   "metadata": {},
   "outputs": [
    {
     "data": {
      "text/plain": [
       "0.7153658657911754"
      ]
     },
     "execution_count": 98,
     "metadata": {},
     "output_type": "execute_result"
    }
   ],
   "source": [
    "accuracy_score(y_test,y5_predict)"
   ]
  },
  {
   "cell_type": "code",
   "execution_count": null,
   "id": "f646729a-7203-4ffd-ba87-cd3c10ef38b7",
   "metadata": {},
   "outputs": [],
   "source": [
    "# using k nearest neighbors"
   ]
  },
  {
   "cell_type": "code",
   "execution_count": 106,
   "id": "7955ef22-8d16-47ce-8a7c-354e908ba05e",
   "metadata": {},
   "outputs": [],
   "source": [
    "from sklearn.neighbors import KNeighborsClassifier\n",
    "error_rate=[]\n",
    "for i in range(1,11):\n",
    "    knn=KNeighborsClassifier(n_neighbors=i)\n",
    "    knn.fit(x_train,y_train)\n",
    "    pred_i=knn.predict(x_test)\n",
    "    error_rate.append(np.mean(pred_i!=y_test))"
   ]
  },
  {
   "cell_type": "code",
   "execution_count": 107,
   "id": "dd03fc2c-8908-4d92-bcca-da7c66ccd9ad",
   "metadata": {},
   "outputs": [
    {
     "data": {
      "text/plain": [
       "[0.22981644530667064,\n",
       " 0.3272148435556882,\n",
       " 0.22414564990299954,\n",
       " 0.2588668357956524,\n",
       " 0.20937173556185643,\n",
       " 0.2292692632940357,\n",
       " 0.20031836044371487,\n",
       " 0.21240610854101377,\n",
       " 0.19444858976272197,\n",
       " 0.2019101626622892]"
      ]
     },
     "execution_count": 107,
     "metadata": {},
     "output_type": "execute_result"
    }
   ],
   "source": [
    "error_rate"
   ]
  },
  {
   "cell_type": "code",
   "execution_count": 108,
   "id": "02620cdc-0fd5-4c2d-a4ef-d9428e20ac5d",
   "metadata": {},
   "outputs": [
    {
     "data": {
      "text/plain": [
       "Text(0, 0.5, 'error rate')"
      ]
     },
     "execution_count": 108,
     "metadata": {},
     "output_type": "execute_result"
    },
    {
     "data": {
      "image/png": "[encoded data removed]",
      "text/plain": [
       "<Figure size 1500x1500 with 1 Axes>"
      ]
     },
     "metadata": {},
     "output_type": "display_data"
    }
   ],
   "source": [
    "plt.figure(figsize=(15,15),facecolor='white')\n",
    "plt.plot(range(1,11),error_rate,color='blue',linestyle='dashed',marker='o',markerfacecolor='red',markersize=10)\n",
    "plt.title='elbow graph'\n",
    "plt.xlabel('range')\n",
    "plt.ylabel('error rate')"
   ]
  },
  {
   "cell_type": "code",
   "execution_count": 115,
   "id": "3456a56e-ca1c-4daa-ae80-3ffe8c6b8a77",
   "metadata": {},
   "outputs": [
    {
     "data": {
      "text/plain": [
       "0.6799482664278963"
      ]
     },
     "execution_count": 115,
     "metadata": {},
     "output_type": "execute_result"
    }
   ],
   "source": [
    "knn=KNeighborsClassifier(n_neighbors=)\n",
    "knn.fit(x_smoted,y_smoted)\n",
    "y6_predict=knn.predict(x_test)\n",
    "accuracy_score(y6_predict,y_test)"
   ]
  },
  {
   "cell_type": "code",
   "execution_count": 114,
   "id": "f19a2690-1222-4ee9-bdff-72fcb90c4702",
   "metadata": {},
   "outputs": [
    {
     "data": {
      "text/plain": [
       "0.7370253508867369"
      ]
     },
     "execution_count": 114,
     "metadata": {},
     "output_type": "execute_result"
    }
   ],
   "source": [
    "f1_score(y6_predict,y_test)"
   ]
  },
  {
   "cell_type": "code",
   "execution_count": null,
   "id": "4f77c727-be50-49ff-8e93-89ce26e90824",
   "metadata": {},
   "outputs": [],
   "source": [
    "# herer logistic regression accuracy is greater than any other algoritm..."
   ]
  }
 ],
 "metadata": {
  "kernelspec": {
   "display_name": "Python 3 (ipykernel)",
   "language": "python",
   "name": "python3"
  },
  "language_info": {
   "codemirror_mode": {
    "name": "ipython",
    "version": 3
   },
   "file_extension": ".py",
   "mimetype": "text/x-python",
   "name": "python",
   "nbconvert_exporter": "python",
   "pygments_lexer": "ipython3",
   "version": "3.11.7"
  }
 },
 "nbformat": 4,
 "nbformat_minor": 5
}
